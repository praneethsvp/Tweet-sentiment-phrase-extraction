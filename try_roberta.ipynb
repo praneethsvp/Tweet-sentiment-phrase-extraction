{
 "cells": [
  {
   "cell_type": "markdown",
   "metadata": {
    "id": "W__XEocy9iEx"
   },
   "source": [
    "Roberta"
   ]
  },
  {
   "cell_type": "code",
   "execution_count": 1,
   "metadata": {
    "colab": {
     "base_uri": "https://localhost:8080/",
     "height": 655
    },
    "executionInfo": {
     "elapsed": 7507,
     "status": "ok",
     "timestamp": 1602670979998,
     "user": {
      "displayName": "Venkata Praneeth",
      "photoUrl": "https://lh3.googleusercontent.com/a-/AOh14Gh73fGtdIa9z0SiL3PC0HTluCYFT184KfwwzLY98Q=s64",
      "userId": "18102774549844806905"
     },
     "user_tz": -330
    },
    "id": "QxsouiZdmtGz",
    "outputId": "e0d9e832-eb1b-4300-f53a-581b475dc381"
   },
   "outputs": [
    {
     "name": "stdout",
     "output_type": "stream",
     "text": [
      "Collecting transformers\n",
      "\u001b[?25l  Downloading https://files.pythonhosted.org/packages/19/22/aff234f4a841f8999e68a7a94bdd4b60b4cebcfeca5d67d61cd08c9179de/transformers-3.3.1-py3-none-any.whl (1.1MB)\n",
      "\u001b[K     |████████████████████████████████| 1.1MB 2.7MB/s \n",
      "\u001b[?25hCollecting sentencepiece!=0.1.92\n",
      "\u001b[?25l  Downloading https://files.pythonhosted.org/packages/d4/a4/d0a884c4300004a78cca907a6ff9a5e9fe4f090f5d95ab341c53d28cbc58/sentencepiece-0.1.91-cp36-cp36m-manylinux1_x86_64.whl (1.1MB)\n",
      "\u001b[K     |████████████████████████████████| 1.1MB 18.7MB/s \n",
      "\u001b[?25hCollecting tokenizers==0.8.1.rc2\n",
      "\u001b[?25l  Downloading https://files.pythonhosted.org/packages/80/83/8b9fccb9e48eeb575ee19179e2bdde0ee9a1904f97de5f02d19016b8804f/tokenizers-0.8.1rc2-cp36-cp36m-manylinux1_x86_64.whl (3.0MB)\n",
      "\u001b[K     |████████████████████████████████| 3.0MB 22.0MB/s \n",
      "\u001b[?25hRequirement already satisfied: filelock in /usr/local/lib/python3.6/dist-packages (from transformers) (3.0.12)\n",
      "Requirement already satisfied: dataclasses; python_version < \"3.7\" in /usr/local/lib/python3.6/dist-packages (from transformers) (0.7)\n",
      "Requirement already satisfied: regex!=2019.12.17 in /usr/local/lib/python3.6/dist-packages (from transformers) (2019.12.20)\n",
      "Collecting sacremoses\n",
      "\u001b[?25l  Downloading https://files.pythonhosted.org/packages/7d/34/09d19aff26edcc8eb2a01bed8e98f13a1537005d31e95233fd48216eed10/sacremoses-0.0.43.tar.gz (883kB)\n",
      "\u001b[K     |████████████████████████████████| 890kB 47.0MB/s \n",
      "\u001b[?25hRequirement already satisfied: packaging in /usr/local/lib/python3.6/dist-packages (from transformers) (20.4)\n",
      "Requirement already satisfied: numpy in /usr/local/lib/python3.6/dist-packages (from transformers) (1.18.5)\n",
      "Requirement already satisfied: requests in /usr/local/lib/python3.6/dist-packages (from transformers) (2.23.0)\n",
      "Requirement already satisfied: tqdm>=4.27 in /usr/local/lib/python3.6/dist-packages (from transformers) (4.41.1)\n",
      "Requirement already satisfied: six in /usr/local/lib/python3.6/dist-packages (from sacremoses->transformers) (1.15.0)\n",
      "Requirement already satisfied: click in /usr/local/lib/python3.6/dist-packages (from sacremoses->transformers) (7.1.2)\n",
      "Requirement already satisfied: joblib in /usr/local/lib/python3.6/dist-packages (from sacremoses->transformers) (0.16.0)\n",
      "Requirement already satisfied: pyparsing>=2.0.2 in /usr/local/lib/python3.6/dist-packages (from packaging->transformers) (2.4.7)\n",
      "Requirement already satisfied: certifi>=2017.4.17 in /usr/local/lib/python3.6/dist-packages (from requests->transformers) (2020.6.20)\n",
      "Requirement already satisfied: urllib3!=1.25.0,!=1.25.1,<1.26,>=1.21.1 in /usr/local/lib/python3.6/dist-packages (from requests->transformers) (1.24.3)\n",
      "Requirement already satisfied: idna<3,>=2.5 in /usr/local/lib/python3.6/dist-packages (from requests->transformers) (2.10)\n",
      "Requirement already satisfied: chardet<4,>=3.0.2 in /usr/local/lib/python3.6/dist-packages (from requests->transformers) (3.0.4)\n",
      "Building wheels for collected packages: sacremoses\n",
      "  Building wheel for sacremoses (setup.py) ... \u001b[?25l\u001b[?25hdone\n",
      "  Created wheel for sacremoses: filename=sacremoses-0.0.43-cp36-none-any.whl size=893257 sha256=508d297a8174963c96550e056278cdce320f4eb2adb8da8ec978a84768030acd\n",
      "  Stored in directory: /root/.cache/pip/wheels/29/3c/fd/7ce5c3f0666dab31a50123635e6fb5e19ceb42ce38d4e58f45\n",
      "Successfully built sacremoses\n",
      "Installing collected packages: sentencepiece, tokenizers, sacremoses, transformers\n",
      "Successfully installed sacremoses-0.0.43 sentencepiece-0.1.91 tokenizers-0.8.1rc2 transformers-3.3.1\n"
     ]
    }
   ],
   "source": [
    "!pip install transformers"
   ]
  },
  {
   "cell_type": "code",
   "execution_count": 1,
   "metadata": {
    "executionInfo": {
     "elapsed": 7465,
     "status": "ok",
     "timestamp": 1602670980004,
     "user": {
      "displayName": "Venkata Praneeth",
      "photoUrl": "https://lh3.googleusercontent.com/a-/AOh14Gh73fGtdIa9z0SiL3PC0HTluCYFT184KfwwzLY98Q=s64",
      "userId": "18102774549844806905"
     },
     "user_tz": -330
    },
    "id": "4lqNydnr-MeM"
   },
   "outputs": [],
   "source": []
  },
  {
   "cell_type": "code",
   "execution_count": 2,
   "metadata": {
    "colab": {
     "base_uri": "https://localhost:8080/",
     "height": 35
    },
    "executionInfo": {
     "elapsed": 13320,
     "status": "ok",
     "timestamp": 1602670985886,
     "user": {
      "displayName": "Venkata Praneeth",
      "photoUrl": "https://lh3.googleusercontent.com/a-/AOh14Gh73fGtdIa9z0SiL3PC0HTluCYFT184KfwwzLY98Q=s64",
      "userId": "18102774549844806905"
     },
     "user_tz": -330
    },
    "id": "mwV1Lbi096qQ",
    "outputId": "c8c3da1b-e438-41c0-db92-780009e1dd04"
   },
   "outputs": [
    {
     "name": "stdout",
     "output_type": "stream",
     "text": [
      "TF version 2.3.0\n"
     ]
    }
   ],
   "source": [
    "from transformers import DistilBertTokenizer,DistilBertConfig, RobertaConfig, RobertaTokenizer, TFRobertaModel, TFDistilBertModel \n",
    "#from transformers import *\n",
    "import tensorflow as tf\n",
    "import pandas as pd\n",
    "import numpy as np\n",
    "from tqdm import tqdm\n",
    "import math\n",
    "from sklearn.model_selection import train_test_split\n",
    "import tensorflow.keras.backend as K\n",
    "from sklearn.model_selection import StratifiedKFold\n",
    "from transformers import *\n",
    "import tokenizers\n",
    "from keras import regularizers \n",
    "from keras.layers import Dense, Input , Dropout \n",
    "from keras.layers import Flatten \n",
    "from keras.layers import concatenate \n",
    "from keras.layers.embeddings import Embedding \n",
    "from keras.models import Model \n",
    "from keras.layers import LSTM, Dense, Dropout, Masking, Embedding, TimeDistributed,Bidirectional\n",
    "from keras.preprocessing.sequence import pad_sequences\n",
    "\n",
    "print('TF version',tf.__version__)"
   ]
  },
  {
   "cell_type": "code",
   "execution_count": 3,
   "metadata": {
    "colab": {
     "base_uri": "https://localhost:8080/",
     "height": 117,
     "referenced_widgets": [
      "830ce7d830ba4064be988cdf140e42a7",
      "63b9db63d4a141b48821f53732743219",
      "b6ef05aef1e0437a9015e57d798d27bf",
      "c7b1c979469043408bb8e5541d729b20",
      "cb0ce293b12b477b994d45d50c9e0dad",
      "3137c18b33d04412bbe0609c66a8644f",
      "05cfb38376f94761ac7818212739340f",
      "23494346047842ddae4178d4d29a4b9d",
      "ac9cbb0815a14095aaf4155d9c624606",
      "373d9fbabb9a4631a284420a66989b57",
      "a4b334f2b1cc47ddafd5c42ff2e086b0",
      "b0e20392cf1745ff8b9c15c867aed8f1",
      "a2969e8869bc471e82a81e5c4372eb12",
      "19db6933f0e24074a16e66d7cdb9d971",
      "c3a715ef66c1473688d225cc3eb08c77",
      "d95d3188f25a472599c481199994070c"
     ]
    },
    "executionInfo": {
     "elapsed": 18128,
     "status": "ok",
     "timestamp": 1602670990745,
     "user": {
      "displayName": "Venkata Praneeth",
      "photoUrl": "https://lh3.googleusercontent.com/a-/AOh14Gh73fGtdIa9z0SiL3PC0HTluCYFT184KfwwzLY98Q=s64",
      "userId": "18102774549844806905"
     },
     "user_tz": -330
    },
    "id": "AS6NoW3AnDvj",
    "outputId": "ab653305-bff2-431b-822e-a4e077ce8f9a"
   },
   "outputs": [
    {
     "data": {
      "application/vnd.jupyter.widget-view+json": {
       "model_id": "830ce7d830ba4064be988cdf140e42a7",
       "version_major": 2,
       "version_minor": 0
      },
      "text/plain": [
       "HBox(children=(FloatProgress(value=0.0, description='Downloading', max=898823.0, style=ProgressStyle(descripti…"
      ]
     },
     "metadata": {
      "tags": []
     },
     "output_type": "display_data"
    },
    {
     "name": "stdout",
     "output_type": "stream",
     "text": [
      "\n"
     ]
    },
    {
     "data": {
      "application/vnd.jupyter.widget-view+json": {
       "model_id": "ac9cbb0815a14095aaf4155d9c624606",
       "version_major": 2,
       "version_minor": 0
      },
      "text/plain": [
       "HBox(children=(FloatProgress(value=0.0, description='Downloading', max=456318.0, style=ProgressStyle(descripti…"
      ]
     },
     "metadata": {
      "tags": []
     },
     "output_type": "display_data"
    },
    {
     "name": "stdout",
     "output_type": "stream",
     "text": [
      "\n"
     ]
    }
   ],
   "source": [
    "tokenizer = RobertaTokenizer.from_pretrained(\"roberta-base\")"
   ]
  },
  {
   "cell_type": "code",
   "execution_count": 4,
   "metadata": {
    "colab": {
     "base_uri": "https://localhost:8080/",
     "height": 138
    },
    "executionInfo": {
     "elapsed": 18098,
     "status": "ok",
     "timestamp": 1602670990748,
     "user": {
      "displayName": "Venkata Praneeth",
      "photoUrl": "https://lh3.googleusercontent.com/a-/AOh14Gh73fGtdIa9z0SiL3PC0HTluCYFT184KfwwzLY98Q=s64",
      "userId": "18102774549844806905"
     },
     "user_tz": -330
    },
    "id": "gJBQadbA9omY",
    "outputId": "b68d55c6-cac8-450e-92a5-c85fcfe53fc0"
   },
   "outputs": [
    {
     "data": {
      "text/html": [
       "<div>\n",
       "<style scoped>\n",
       "    .dataframe tbody tr th:only-of-type {\n",
       "        vertical-align: middle;\n",
       "    }\n",
       "\n",
       "    .dataframe tbody tr th {\n",
       "        vertical-align: top;\n",
       "    }\n",
       "\n",
       "    .dataframe thead th {\n",
       "        text-align: right;\n",
       "    }\n",
       "</style>\n",
       "<table border=\"1\" class=\"dataframe\">\n",
       "  <thead>\n",
       "    <tr style=\"text-align: right;\">\n",
       "      <th></th>\n",
       "      <th>textID</th>\n",
       "      <th>text</th>\n",
       "      <th>selected_text</th>\n",
       "      <th>sentiment</th>\n",
       "    </tr>\n",
       "  </thead>\n",
       "  <tbody>\n",
       "    <tr>\n",
       "      <th>0</th>\n",
       "      <td>cb774db0d1</td>\n",
       "      <td>I`d have responded, if I were going</td>\n",
       "      <td>I`d have responded, if I were going</td>\n",
       "      <td>neutral</td>\n",
       "    </tr>\n",
       "    <tr>\n",
       "      <th>1</th>\n",
       "      <td>549e992a42</td>\n",
       "      <td>Sooo SAD I will miss you here in San Diego!!!</td>\n",
       "      <td>Sooo SAD</td>\n",
       "      <td>negative</td>\n",
       "    </tr>\n",
       "    <tr>\n",
       "      <th>2</th>\n",
       "      <td>088c60f138</td>\n",
       "      <td>my boss is bullying me...</td>\n",
       "      <td>bullying me</td>\n",
       "      <td>negative</td>\n",
       "    </tr>\n",
       "  </tbody>\n",
       "</table>\n",
       "</div>"
      ],
      "text/plain": [
       "       textID  ... sentiment\n",
       "0  cb774db0d1  ...   neutral\n",
       "1  549e992a42  ...  negative\n",
       "2  088c60f138  ...  negative\n",
       "\n",
       "[3 rows x 4 columns]"
      ]
     },
     "execution_count": 4,
     "metadata": {
      "tags": []
     },
     "output_type": "execute_result"
    }
   ],
   "source": [
    "train_data=pd.read_csv('train_twitter.csv').fillna('')\n",
    "train_data.head(3)"
   ]
  },
  {
   "cell_type": "code",
   "execution_count": 5,
   "metadata": {
    "executionInfo": {
     "elapsed": 18038,
     "status": "ok",
     "timestamp": 1602670990751,
     "user": {
      "displayName": "Venkata Praneeth",
      "photoUrl": "https://lh3.googleusercontent.com/a-/AOh14Gh73fGtdIa9z0SiL3PC0HTluCYFT184KfwwzLY98Q=s64",
      "userId": "18102774549844806905"
     },
     "user_tz": -330
    },
    "id": "Gx12ArWh4ujB"
   },
   "outputs": [],
   "source": [
    "# We are trying to remove whitespace because it may produce different encodings for same words\n",
    "def spaces_text(df):\n",
    "  sent=df['text'].strip()\n",
    "  return sent\n",
    "\n",
    "def spaces_st(df):\n",
    "  sent1=df['selected_text'].strip()  \n",
    "  return sent1"
   ]
  },
  {
   "cell_type": "code",
   "execution_count": 6,
   "metadata": {
    "executionInfo": {
     "elapsed": 18869,
     "status": "ok",
     "timestamp": 1602670991597,
     "user": {
      "displayName": "Venkata Praneeth",
      "photoUrl": "https://lh3.googleusercontent.com/a-/AOh14Gh73fGtdIa9z0SiL3PC0HTluCYFT184KfwwzLY98Q=s64",
      "userId": "18102774549844806905"
     },
     "user_tz": -330
    },
    "id": "lTWZPAnp4fT3"
   },
   "outputs": [],
   "source": [
    "train_data['text']=train_data.apply(spaces_text,axis=1)\n",
    "train_data['selected_text']=train_data.apply(spaces_st,axis=1)"
   ]
  },
  {
   "cell_type": "code",
   "execution_count": 7,
   "metadata": {
    "colab": {
     "base_uri": "https://localhost:8080/",
     "height": 54
    },
    "executionInfo": {
     "elapsed": 18835,
     "status": "ok",
     "timestamp": 1602670991608,
     "user": {
      "displayName": "Venkata Praneeth",
      "photoUrl": "https://lh3.googleusercontent.com/a-/AOh14Gh73fGtdIa9z0SiL3PC0HTluCYFT184KfwwzLY98Q=s64",
      "userId": "18102774549844806905"
     },
     "user_tz": -330
    },
    "id": "jKiKR1bl-0Eh",
    "outputId": "8dfb61de-9a66-4701-f915-52b63664f6db"
   },
   "outputs": [
    {
     "name": "stdout",
     "output_type": "stream",
     "text": [
      "(21984, 4)\n",
      "(5497, 4)\n"
     ]
    }
   ],
   "source": [
    "from sklearn.model_selection import train_test_split\n",
    "train,test=train_test_split(train_data,test_size=0.2,stratify=train_data['sentiment'])\n",
    "print(train.shape)\n",
    "print(test.shape)"
   ]
  },
  {
   "cell_type": "code",
   "execution_count": 8,
   "metadata": {
    "colab": {
     "base_uri": "https://localhost:8080/",
     "height": 108
    },
    "executionInfo": {
     "elapsed": 18809,
     "status": "ok",
     "timestamp": 1602670991611,
     "user": {
      "displayName": "Venkata Praneeth",
      "photoUrl": "https://lh3.googleusercontent.com/a-/AOh14Gh73fGtdIa9z0SiL3PC0HTluCYFT184KfwwzLY98Q=s64",
      "userId": "18102774549844806905"
     },
     "user_tz": -330
    },
    "id": "_gZmXYFbDEMv",
    "outputId": "4cdfb2d9-538b-4df0-b2f9-d3b3930d9d1a"
   },
   "outputs": [
    {
     "data": {
      "text/html": [
       "<div>\n",
       "<style scoped>\n",
       "    .dataframe tbody tr th:only-of-type {\n",
       "        vertical-align: middle;\n",
       "    }\n",
       "\n",
       "    .dataframe tbody tr th {\n",
       "        vertical-align: top;\n",
       "    }\n",
       "\n",
       "    .dataframe thead th {\n",
       "        text-align: right;\n",
       "    }\n",
       "</style>\n",
       "<table border=\"1\" class=\"dataframe\">\n",
       "  <thead>\n",
       "    <tr style=\"text-align: right;\">\n",
       "      <th></th>\n",
       "      <th>textID</th>\n",
       "      <th>text</th>\n",
       "      <th>selected_text</th>\n",
       "      <th>sentiment</th>\n",
       "    </tr>\n",
       "  </thead>\n",
       "  <tbody>\n",
       "    <tr>\n",
       "      <th>0</th>\n",
       "      <td>6faba78e87</td>\n",
       "      <td>translation = complicated sh-t that someone is...</td>\n",
       "      <td>complicated sh-t</td>\n",
       "      <td>negative</td>\n",
       "    </tr>\n",
       "    <tr>\n",
       "      <th>1</th>\n",
       "      <td>0b0b53bd74</td>\n",
       "      <td>Mummy and Nathan not in today! On My Todd!</td>\n",
       "      <td>Mummy and Nathan not in today! On My Todd!</td>\n",
       "      <td>neutral</td>\n",
       "    </tr>\n",
       "  </tbody>\n",
       "</table>\n",
       "</div>"
      ],
      "text/plain": [
       "       textID  ... sentiment\n",
       "0  6faba78e87  ...  negative\n",
       "1  0b0b53bd74  ...   neutral\n",
       "\n",
       "[2 rows x 4 columns]"
      ]
     },
     "execution_count": 8,
     "metadata": {
      "tags": []
     },
     "output_type": "execute_result"
    }
   ],
   "source": [
    "train_copy=train.copy() \n",
    "train_copy=train_copy.reset_index(drop=True) \n",
    "train_copy.head(2)"
   ]
  },
  {
   "cell_type": "code",
   "execution_count": 9,
   "metadata": {
    "colab": {
     "base_uri": "https://localhost:8080/",
     "height": 108
    },
    "executionInfo": {
     "elapsed": 18783,
     "status": "ok",
     "timestamp": 1602670991621,
     "user": {
      "displayName": "Venkata Praneeth",
      "photoUrl": "https://lh3.googleusercontent.com/a-/AOh14Gh73fGtdIa9z0SiL3PC0HTluCYFT184KfwwzLY98Q=s64",
      "userId": "18102774549844806905"
     },
     "user_tz": -330
    },
    "id": "iaUBQVpxDIxy",
    "outputId": "5a64263e-e336-4577-a834-b9f952997e5f"
   },
   "outputs": [
    {
     "data": {
      "text/html": [
       "<div>\n",
       "<style scoped>\n",
       "    .dataframe tbody tr th:only-of-type {\n",
       "        vertical-align: middle;\n",
       "    }\n",
       "\n",
       "    .dataframe tbody tr th {\n",
       "        vertical-align: top;\n",
       "    }\n",
       "\n",
       "    .dataframe thead th {\n",
       "        text-align: right;\n",
       "    }\n",
       "</style>\n",
       "<table border=\"1\" class=\"dataframe\">\n",
       "  <thead>\n",
       "    <tr style=\"text-align: right;\">\n",
       "      <th></th>\n",
       "      <th>textID</th>\n",
       "      <th>text</th>\n",
       "      <th>selected_text</th>\n",
       "      <th>sentiment</th>\n",
       "    </tr>\n",
       "  </thead>\n",
       "  <tbody>\n",
       "    <tr>\n",
       "      <th>0</th>\n",
       "      <td>1e4bcc6393</td>\n",
       "      <td>come home, then. Not so boring here.</td>\n",
       "      <td>so boring here.</td>\n",
       "      <td>negative</td>\n",
       "    </tr>\n",
       "    <tr>\n",
       "      <th>1</th>\n",
       "      <td>c98b54f57f</td>\n",
       "      <td>X-Men:Wolverine was hot! I say go watch it</td>\n",
       "      <td>was hot!</td>\n",
       "      <td>positive</td>\n",
       "    </tr>\n",
       "  </tbody>\n",
       "</table>\n",
       "</div>"
      ],
      "text/plain": [
       "       textID  ... sentiment\n",
       "0  1e4bcc6393  ...  negative\n",
       "1  c98b54f57f  ...  positive\n",
       "\n",
       "[2 rows x 4 columns]"
      ]
     },
     "execution_count": 9,
     "metadata": {
      "tags": []
     },
     "output_type": "execute_result"
    }
   ],
   "source": [
    "test_copy=test.copy() \n",
    "test_copy=test_copy.reset_index(drop=True) \n",
    "test_copy.head(2)"
   ]
  },
  {
   "cell_type": "code",
   "execution_count": 10,
   "metadata": {
    "executionInfo": {
     "elapsed": 18744,
     "status": "ok",
     "timestamp": 1602670991623,
     "user": {
      "displayName": "Venkata Praneeth",
      "photoUrl": "https://lh3.googleusercontent.com/a-/AOh14Gh73fGtdIa9z0SiL3PC0HTluCYFT184KfwwzLY98Q=s64",
      "userId": "18102774549844806905"
     },
     "user_tz": -330
    },
    "id": "uBl6x7yJ-6Cu"
   },
   "outputs": [],
   "source": [
    "def token(text,tokenizer):\n",
    "  inputs=[]\n",
    "  masks=[]\n",
    "  \n",
    "  for i in range(text.shape[0]):\n",
    "    tok=tokenizer(text[i])\n",
    "    inputs.append(tok['input_ids'])\n",
    "    masks.append(tok['attention_mask'])\n",
    "    \n",
    "  return np.array(inputs),np.array(masks)"
   ]
  },
  {
   "cell_type": "code",
   "execution_count": 11,
   "metadata": {
    "executionInfo": {
     "elapsed": 24932,
     "status": "ok",
     "timestamp": 1602670997829,
     "user": {
      "displayName": "Venkata Praneeth",
      "photoUrl": "https://lh3.googleusercontent.com/a-/AOh14Gh73fGtdIa9z0SiL3PC0HTluCYFT184KfwwzLY98Q=s64",
      "userId": "18102774549844806905"
     },
     "user_tz": -330
    },
    "id": "6AOYefXHCr2u"
   },
   "outputs": [],
   "source": [
    "tr_feat=token(train_copy.text,tokenizer)\n"
   ]
  },
  {
   "cell_type": "code",
   "execution_count": 12,
   "metadata": {
    "executionInfo": {
     "elapsed": 25744,
     "status": "ok",
     "timestamp": 1602670998685,
     "user": {
      "displayName": "Venkata Praneeth",
      "photoUrl": "https://lh3.googleusercontent.com/a-/AOh14Gh73fGtdIa9z0SiL3PC0HTluCYFT184KfwwzLY98Q=s64",
      "userId": "18102774549844806905"
     },
     "user_tz": -330
    },
    "id": "tG6loE6zLinx"
   },
   "outputs": [],
   "source": [
    "ts_feat=token(test_copy.text,tokenizer)\n",
    "inputs_ts=ts_feat[0]\n",
    "masks_ts=ts_feat[1]"
   ]
  },
  {
   "cell_type": "code",
   "execution_count": 13,
   "metadata": {
    "colab": {
     "base_uri": "https://localhost:8080/",
     "height": 183
    },
    "executionInfo": {
     "elapsed": 25714,
     "status": "ok",
     "timestamp": 1602670998687,
     "user": {
      "displayName": "Venkata Praneeth",
      "photoUrl": "https://lh3.googleusercontent.com/a-/AOh14Gh73fGtdIa9z0SiL3PC0HTluCYFT184KfwwzLY98Q=s64",
      "userId": "18102774549844806905"
     },
     "user_tz": -330
    },
    "id": "2wUJ9XmPLxxM",
    "outputId": "cf656329-5186-4ec1-975d-bd8d1de9bfb0"
   },
   "outputs": [
    {
     "data": {
      "text/plain": [
       "array([list([0, 19807, 184, 6, 172, 4, 1491, 98, 15305, 259, 4, 2]),\n",
       "       list([0, 1000, 12, 17762, 35, 771, 35934, 833, 21, 2131, 328, 38, 224, 213, 1183, 24, 2]),\n",
       "       list([0, 560, 5, 82, 939, 21, 326, 11483, 154, 734, 6661, 1028, 16, 1462, 8, 939, 64, 12905, 90, 36839, 24, 4, 1437, 5952, 4342, 30397, 40, 3190, 24, 8, 939, 12905, 890, 24, 124, 30, 3422, 2]),\n",
       "       ...,\n",
       "       list([0, 100, 1447, 127, 31955, 10743, 452, 4, 856, 46628, 4783, 5367, 2]),\n",
       "       list([0, 47519, 734, 38, 197, 213, 146, 10, 86, 3563, 7, 213, 556, 7, 316, 35, 612, 1840, 4356, 16333, 7586, 5534, 32440, 298, 939, 33976, 117, 141, 350, 734, 1437, 3023, 2]),\n",
       "       list([0, 10431, 8527, 19302, 12997, 21746, 132, 1208, 6, 359, 939, 213, 359, 25805, 11405, 7082, 112, 6, 301, 29384, 12846, 2])],\n",
       "      dtype=object)"
      ]
     },
     "execution_count": 13,
     "metadata": {
      "tags": []
     },
     "output_type": "execute_result"
    }
   ],
   "source": [
    "inputs_ts"
   ]
  },
  {
   "cell_type": "code",
   "execution_count": 14,
   "metadata": {
    "colab": {
     "base_uri": "https://localhost:8080/",
     "height": 183
    },
    "executionInfo": {
     "elapsed": 25658,
     "status": "ok",
     "timestamp": 1602670998699,
     "user": {
      "displayName": "Venkata Praneeth",
      "photoUrl": "https://lh3.googleusercontent.com/a-/AOh14Gh73fGtdIa9z0SiL3PC0HTluCYFT184KfwwzLY98Q=s64",
      "userId": "18102774549844806905"
     },
     "user_tz": -330
    },
    "id": "OoP6_0KZID1U",
    "outputId": "d4b9fd4f-b38b-4ee6-a0c2-bda29e160c42"
   },
   "outputs": [
    {
     "data": {
      "text/plain": [
       "array([list([0, 48235, 5457, 6336, 1481, 12, 90, 14, 951, 16, 164, 7, 33, 7, 6396, 162, 2]),\n",
       "       list([0, 448, 22383, 8, 7738, 45, 11, 452, 328, 374, 1308, 6540, 328, 2]),\n",
       "       list([0, 713, 2214, 16, 10, 17605, 15, 47, 652, 12846, 1437, 17487, 2054, 640, 3662, 1588, 4, 40523, 73, 34437, 245, 267, 1452, 401, 2]),\n",
       "       ...,\n",
       "       list([0, 118, 23126, 517, 7, 20407, 1245, 328, 128, 10913, 6, 939, 531, 213, 7, 5, 784, 3036, 4, 939, 40, 471, 7, 127, 740, 14655, 6, 10932, 955, 821, 895, 11695, 8, 5, 6344, 15056, 4, 2]),\n",
       "       list([0, 462, 4344, 4, 47, 197, 33, 26, 20760, 328, 2]),\n",
       "       list([0, 23692, 4, 840, 873, 257, 4, 1437, 178, 122, 40930, 975, 448, 328, 16923, 2653, 29090, 2])],\n",
       "      dtype=object)"
      ]
     },
     "execution_count": 14,
     "metadata": {
      "tags": []
     },
     "output_type": "execute_result"
    }
   ],
   "source": [
    "inputs=tr_feat[0]\n",
    "masks=tr_feat[1]\n",
    "inputs"
   ]
  },
  {
   "cell_type": "code",
   "execution_count": 15,
   "metadata": {
    "colab": {
     "base_uri": "https://localhost:8080/",
     "height": 35
    },
    "executionInfo": {
     "elapsed": 25596,
     "status": "ok",
     "timestamp": 1602670998701,
     "user": {
      "displayName": "Venkata Praneeth",
      "photoUrl": "https://lh3.googleusercontent.com/a-/AOh14Gh73fGtdIa9z0SiL3PC0HTluCYFT184KfwwzLY98Q=s64",
      "userId": "18102774549844806905"
     },
     "user_tz": -330
    },
    "id": "6QxPm-PlHqcM",
    "outputId": "0a0cec66-319d-48a5-fb26-6fed48f24b25"
   },
   "outputs": [
    {
     "data": {
      "text/plain": [
       "(21984,)"
      ]
     },
     "execution_count": 15,
     "metadata": {
      "tags": []
     },
     "output_type": "execute_result"
    }
   ],
   "source": [
    "tr_feat[0].shape"
   ]
  },
  {
   "cell_type": "code",
   "execution_count": 16,
   "metadata": {
    "colab": {
     "base_uri": "https://localhost:8080/",
     "height": 183
    },
    "executionInfo": {
     "elapsed": 25555,
     "status": "ok",
     "timestamp": 1602670998704,
     "user": {
      "displayName": "Venkata Praneeth",
      "photoUrl": "https://lh3.googleusercontent.com/a-/AOh14Gh73fGtdIa9z0SiL3PC0HTluCYFT184KfwwzLY98Q=s64",
      "userId": "18102774549844806905"
     },
     "user_tz": -330
    },
    "id": "DsgXRG4cDSje",
    "outputId": "5bb89658-20b0-4b8c-bb84-3578d5d4bfea"
   },
   "outputs": [
    {
     "data": {
      "text/plain": [
       "array([list([0, 48235, 5457, 6336, 1481, 12, 90, 14, 951, 16, 164, 7, 33, 7, 6396, 162, 2]),\n",
       "       list([0, 448, 22383, 8, 7738, 45, 11, 452, 328, 374, 1308, 6540, 328, 2]),\n",
       "       list([0, 713, 2214, 16, 10, 17605, 15, 47, 652, 12846, 1437, 17487, 2054, 640, 3662, 1588, 4, 40523, 73, 34437, 245, 267, 1452, 401, 2]),\n",
       "       ...,\n",
       "       list([0, 118, 23126, 517, 7, 20407, 1245, 328, 128, 10913, 6, 939, 531, 213, 7, 5, 784, 3036, 4, 939, 40, 471, 7, 127, 740, 14655, 6, 10932, 955, 821, 895, 11695, 8, 5, 6344, 15056, 4, 2]),\n",
       "       list([0, 462, 4344, 4, 47, 197, 33, 26, 20760, 328, 2]),\n",
       "       list([0, 23692, 4, 840, 873, 257, 4, 1437, 178, 122, 40930, 975, 448, 328, 16923, 2653, 29090, 2])],\n",
       "      dtype=object)"
      ]
     },
     "execution_count": 16,
     "metadata": {
      "tags": []
     },
     "output_type": "execute_result"
    }
   ],
   "source": [
    "tr_feat[0]"
   ]
  },
  {
   "cell_type": "code",
   "execution_count": 17,
   "metadata": {
    "colab": {
     "base_uri": "https://localhost:8080/",
     "height": 183
    },
    "executionInfo": {
     "elapsed": 25499,
     "status": "ok",
     "timestamp": 1602670998710,
     "user": {
      "displayName": "Venkata Praneeth",
      "photoUrl": "https://lh3.googleusercontent.com/a-/AOh14Gh73fGtdIa9z0SiL3PC0HTluCYFT184KfwwzLY98Q=s64",
      "userId": "18102774549844806905"
     },
     "user_tz": -330
    },
    "id": "5kygAcDYD28M",
    "outputId": "6e97fd10-fde8-4559-e84f-3b4297025868"
   },
   "outputs": [
    {
     "data": {
      "text/plain": [
       "array([list([1, 1, 1, 1, 1, 1, 1, 1, 1, 1, 1, 1, 1, 1, 1, 1, 1]),\n",
       "       list([1, 1, 1, 1, 1, 1, 1, 1, 1, 1, 1, 1, 1, 1]),\n",
       "       list([1, 1, 1, 1, 1, 1, 1, 1, 1, 1, 1, 1, 1, 1, 1, 1, 1, 1, 1, 1, 1, 1, 1, 1, 1]),\n",
       "       ...,\n",
       "       list([1, 1, 1, 1, 1, 1, 1, 1, 1, 1, 1, 1, 1, 1, 1, 1, 1, 1, 1, 1, 1, 1, 1, 1, 1, 1, 1, 1, 1, 1, 1, 1, 1, 1, 1, 1, 1, 1]),\n",
       "       list([1, 1, 1, 1, 1, 1, 1, 1, 1, 1, 1]),\n",
       "       list([1, 1, 1, 1, 1, 1, 1, 1, 1, 1, 1, 1, 1, 1, 1, 1, 1, 1])],\n",
       "      dtype=object)"
      ]
     },
     "execution_count": 17,
     "metadata": {
      "tags": []
     },
     "output_type": "execute_result"
    }
   ],
   "source": [
    "tr_feat[1]"
   ]
  },
  {
   "cell_type": "code",
   "execution_count": 18,
   "metadata": {
    "colab": {
     "base_uri": "https://localhost:8080/",
     "height": 54
    },
    "executionInfo": {
     "elapsed": 26413,
     "status": "ok",
     "timestamp": 1602670999662,
     "user": {
      "displayName": "Venkata Praneeth",
      "photoUrl": "https://lh3.googleusercontent.com/a-/AOh14Gh73fGtdIa9z0SiL3PC0HTluCYFT184KfwwzLY98Q=s64",
      "userId": "18102774549844806905"
     },
     "user_tz": -330
    },
    "id": "gEzWZIfhDUqu",
    "outputId": "51b65145-1a8c-4045-a814-20f8891e55ef"
   },
   "outputs": [
    {
     "name": "stdout",
     "output_type": "stream",
     "text": [
      "</s>\n"
     ]
    },
    {
     "data": {
      "application/vnd.google.colaboratory.intrinsic+json": {
       "type": "string"
      },
      "text/plain": [
       "'<s>'"
      ]
     },
     "execution_count": 18,
     "metadata": {
      "tags": []
     },
     "output_type": "execute_result"
    }
   ],
   "source": [
    "print(tokenizer.decode(2))\n",
    "tokenizer.decode(0)"
   ]
  },
  {
   "cell_type": "code",
   "execution_count": 19,
   "metadata": {
    "colab": {
     "base_uri": "https://localhost:8080/",
     "height": 72
    },
    "executionInfo": {
     "elapsed": 26382,
     "status": "ok",
     "timestamp": 1602670999666,
     "user": {
      "displayName": "Venkata Praneeth",
      "photoUrl": "https://lh3.googleusercontent.com/a-/AOh14Gh73fGtdIa9z0SiL3PC0HTluCYFT184KfwwzLY98Q=s64",
      "userId": "18102774549844806905"
     },
     "user_tz": -330
    },
    "id": "YqQ36L0sDjvg",
    "outputId": "158b70bb-a8be-4cb6-8ff7-0c4c89946b95"
   },
   "outputs": [
    {
     "name": "stdout",
     "output_type": "stream",
     "text": [
      "[0, 1313, 2]\n",
      "[0, 2430, 2]\n",
      "[0, 7974, 2]\n"
     ]
    }
   ],
   "source": [
    "print(tokenizer.encode(' positive'))\n",
    "print(tokenizer.encode(' negative'))\n",
    "print(tokenizer.encode(' neutral'))"
   ]
  },
  {
   "cell_type": "markdown",
   "metadata": {
    "id": "NgqOMlWPEI1b"
   },
   "source": [
    "<b> Ids for sentiments </b> <br>\n",
    "Positive ----> 1313 <br>\n",
    "Negative ----> 2430 <br>\n",
    "Neutral  ----> 7974 <br>"
   ]
  },
  {
   "cell_type": "markdown",
   "metadata": {
    "id": "VDpuGVkgF1OI"
   },
   "source": [
    "RoBERTa doesn’t have token_type_ids, you don’t need to indicate which token belongs to which segment. Just separate your segments with the separation token tokenizer.sep_token "
   ]
  },
  {
   "cell_type": "code",
   "execution_count": 20,
   "metadata": {
    "executionInfo": {
     "elapsed": 26335,
     "status": "ok",
     "timestamp": 1602670999668,
     "user": {
      "displayName": "Venkata Praneeth",
      "photoUrl": "https://lh3.googleusercontent.com/a-/AOh14Gh73fGtdIa9z0SiL3PC0HTluCYFT184KfwwzLY98Q=s64",
      "userId": "18102774549844806905"
     },
     "user_tz": -330
    },
    "id": "3WMnhqvjESFi"
   },
   "outputs": [],
   "source": [
    "# Adding these ids to the input_ids\n",
    "sentiment_id = {'positive': 1313, 'negative': 2430, 'neutral': 7974}"
   ]
  },
  {
   "cell_type": "code",
   "execution_count": 21,
   "metadata": {
    "colab": {
     "base_uri": "https://localhost:8080/",
     "height": 35
    },
    "executionInfo": {
     "elapsed": 26308,
     "status": "ok",
     "timestamp": 1602670999670,
     "user": {
      "displayName": "Venkata Praneeth",
      "photoUrl": "https://lh3.googleusercontent.com/a-/AOh14Gh73fGtdIa9z0SiL3PC0HTluCYFT184KfwwzLY98Q=s64",
      "userId": "18102774549844806905"
     },
     "user_tz": -330
    },
    "id": "A8CehFIjIykL",
    "outputId": "4e1e1dd2-a6b5-42b2-e260-1c02ad9570fd"
   },
   "outputs": [
    {
     "data": {
      "text/plain": [
       "int"
      ]
     },
     "execution_count": 21,
     "metadata": {
      "tags": []
     },
     "output_type": "execute_result"
    }
   ],
   "source": [
    "type(sentiment_id['positive'])"
   ]
  },
  {
   "cell_type": "code",
   "execution_count": 22,
   "metadata": {
    "executionInfo": {
     "elapsed": 22894,
     "status": "ok",
     "timestamp": 1602665860708,
     "user": {
      "displayName": "Venkata Praneeth",
      "photoUrl": "https://lh3.googleusercontent.com/a-/AOh14Gh73fGtdIa9z0SiL3PC0HTluCYFT184KfwwzLY98Q=s64",
      "userId": "18102774549844806905"
     },
     "user_tz": -330
    },
    "id": "t4FnsYI_HyPC"
   },
   "outputs": [],
   "source": [
    "'''\n",
    "for i in range(train_copy.shape[0]):\n",
    "  masks[i]=masks[i] + [1]*3\n",
    "  inputs[i]=inputs[i]+[2]+[sentiment_id[train_copy['sentiment'][i]]]+[2]\n",
    "'''"
   ]
  },
  {
   "cell_type": "code",
   "execution_count": 23,
   "metadata": {
    "colab": {
     "base_uri": "https://localhost:8080/",
     "height": 35
    },
    "executionInfo": {
     "elapsed": 22862,
     "status": "ok",
     "timestamp": 1602665860730,
     "user": {
      "displayName": "Venkata Praneeth",
      "photoUrl": "https://lh3.googleusercontent.com/a-/AOh14Gh73fGtdIa9z0SiL3PC0HTluCYFT184KfwwzLY98Q=s64",
      "userId": "18102774549844806905"
     },
     "user_tz": -330
    },
    "id": "Sadh2XezH04M",
    "outputId": "95cd6674-20aa-4638-8072-935bf21119ae"
   },
   "outputs": [
    {
     "data": {
      "text/plain": [
       "23"
      ]
     },
     "execution_count": 23,
     "metadata": {
      "tags": []
     },
     "output_type": "execute_result"
    }
   ],
   "source": [
    "len(inputs[3])"
   ]
  },
  {
   "cell_type": "code",
   "execution_count": 24,
   "metadata": {
    "colab": {
     "base_uri": "https://localhost:8080/",
     "height": 35
    },
    "executionInfo": {
     "elapsed": 22836,
     "status": "ok",
     "timestamp": 1602665860731,
     "user": {
      "displayName": "Venkata Praneeth",
      "photoUrl": "https://lh3.googleusercontent.com/a-/AOh14Gh73fGtdIa9z0SiL3PC0HTluCYFT184KfwwzLY98Q=s64",
      "userId": "18102774549844806905"
     },
     "user_tz": -330
    },
    "id": "tmEtLIrSCASQ",
    "outputId": "a7e51fdf-41d0-4284-f2eb-717a47ef9ba9"
   },
   "outputs": [
    {
     "data": {
      "text/plain": [
       "23"
      ]
     },
     "execution_count": 24,
     "metadata": {
      "tags": []
     },
     "output_type": "execute_result"
    }
   ],
   "source": [
    "len(masks[3])"
   ]
  },
  {
   "cell_type": "code",
   "execution_count": 25,
   "metadata": {
    "executionInfo": {
     "elapsed": 23222,
     "status": "ok",
     "timestamp": 1602665861133,
     "user": {
      "displayName": "Venkata Praneeth",
      "photoUrl": "https://lh3.googleusercontent.com/a-/AOh14Gh73fGtdIa9z0SiL3PC0HTluCYFT184KfwwzLY98Q=s64",
      "userId": "18102774549844806905"
     },
     "user_tz": -330
    },
    "id": "e544qznFL25Y"
   },
   "outputs": [],
   "source": [
    "'''\n",
    "for i in range(test_copy.shape[0]):\n",
    "  inputs_ts[i]=inputs_ts[i]+[2]+[sentiment_id[train_copy['sentiment'][i]]]+[2]\n",
    "  masks_ts[i]=masks_ts[i] + [1]*3\n",
    "'''"
   ]
  },
  {
   "cell_type": "code",
   "execution_count": 22,
   "metadata": {
    "colab": {
     "base_uri": "https://localhost:8080/",
     "height": 183
    },
    "executionInfo": {
     "elapsed": 19036,
     "status": "ok",
     "timestamp": 1602670999673,
     "user": {
      "displayName": "Venkata Praneeth",
      "photoUrl": "https://lh3.googleusercontent.com/a-/AOh14Gh73fGtdIa9z0SiL3PC0HTluCYFT184KfwwzLY98Q=s64",
      "userId": "18102774549844806905"
     },
     "user_tz": -330
    },
    "id": "SfYRcXOSMGK2",
    "outputId": "56981a25-d000-4f94-ec63-656b8b1cef2f"
   },
   "outputs": [
    {
     "data": {
      "text/plain": [
       "array([list([0, 19807, 184, 6, 172, 4, 1491, 98, 15305, 259, 4, 2]),\n",
       "       list([0, 1000, 12, 17762, 35, 771, 35934, 833, 21, 2131, 328, 38, 224, 213, 1183, 24, 2]),\n",
       "       list([0, 560, 5, 82, 939, 21, 326, 11483, 154, 734, 6661, 1028, 16, 1462, 8, 939, 64, 12905, 90, 36839, 24, 4, 1437, 5952, 4342, 30397, 40, 3190, 24, 8, 939, 12905, 890, 24, 124, 30, 3422, 2]),\n",
       "       ...,\n",
       "       list([0, 100, 1447, 127, 31955, 10743, 452, 4, 856, 46628, 4783, 5367, 2]),\n",
       "       list([0, 47519, 734, 38, 197, 213, 146, 10, 86, 3563, 7, 213, 556, 7, 316, 35, 612, 1840, 4356, 16333, 7586, 5534, 32440, 298, 939, 33976, 117, 141, 350, 734, 1437, 3023, 2]),\n",
       "       list([0, 10431, 8527, 19302, 12997, 21746, 132, 1208, 6, 359, 939, 213, 359, 25805, 11405, 7082, 112, 6, 301, 29384, 12846, 2])],\n",
       "      dtype=object)"
      ]
     },
     "execution_count": 22,
     "metadata": {
      "tags": []
     },
     "output_type": "execute_result"
    }
   ],
   "source": [
    "inputs_ts"
   ]
  },
  {
   "cell_type": "code",
   "execution_count": 23,
   "metadata": {
    "colab": {
     "base_uri": "https://localhost:8080/",
     "height": 163
    },
    "executionInfo": {
     "elapsed": 15543,
     "status": "ok",
     "timestamp": 1602670999674,
     "user": {
      "displayName": "Venkata Praneeth",
      "photoUrl": "https://lh3.googleusercontent.com/a-/AOh14Gh73fGtdIa9z0SiL3PC0HTluCYFT184KfwwzLY98Q=s64",
      "userId": "18102774549844806905"
     },
     "user_tz": -330
    },
    "id": "BMbMIRvCJSNe",
    "outputId": "cf4e805f-1649-4157-c4a1-e9f527e4451f"
   },
   "outputs": [
    {
     "name": "stdout",
     "output_type": "stream",
     "text": [
      "(21984, 96)\n"
     ]
    },
    {
     "data": {
      "text/plain": [
       "array([[    0, 48235,  5457, ...,     1,     1,     1],\n",
       "       [    0,   448, 22383, ...,     1,     1,     1],\n",
       "       [    0,   713,  2214, ...,     1,     1,     1],\n",
       "       ...,\n",
       "       [    0,   118, 23126, ...,     1,     1,     1],\n",
       "       [    0,   462,  4344, ...,     1,     1,     1],\n",
       "       [    0, 23692,     4, ...,     1,     1,     1]], dtype=int32)"
      ]
     },
     "execution_count": 23,
     "metadata": {
      "tags": []
     },
     "output_type": "execute_result"
    }
   ],
   "source": [
    "# Paddig them to a fixed size\n",
    "input_ids_tr=pad_sequences(inputs,padding='post',maxlen=96,value=1)\n",
    "print(input_ids_tr.shape)\n",
    "input_ids_tr"
   ]
  },
  {
   "cell_type": "code",
   "execution_count": 24,
   "metadata": {
    "colab": {
     "base_uri": "https://localhost:8080/",
     "height": 163
    },
    "executionInfo": {
     "elapsed": 13012,
     "status": "ok",
     "timestamp": 1602670999677,
     "user": {
      "displayName": "Venkata Praneeth",
      "photoUrl": "https://lh3.googleusercontent.com/a-/AOh14Gh73fGtdIa9z0SiL3PC0HTluCYFT184KfwwzLY98Q=s64",
      "userId": "18102774549844806905"
     },
     "user_tz": -330
    },
    "id": "eNx8tJJxLdfD",
    "outputId": "7921ff1c-b262-4cda-b406-a61498674d99"
   },
   "outputs": [
    {
     "name": "stdout",
     "output_type": "stream",
     "text": [
      "(5497, 96)\n"
     ]
    },
    {
     "data": {
      "text/plain": [
       "array([[    0, 19807,   184, ...,     1,     1,     1],\n",
       "       [    0,  1000,    12, ...,     1,     1,     1],\n",
       "       [    0,   560,     5, ...,     1,     1,     1],\n",
       "       ...,\n",
       "       [    0,   100,  1447, ...,     1,     1,     1],\n",
       "       [    0, 47519,   734, ...,     1,     1,     1],\n",
       "       [    0, 10431,  8527, ...,     1,     1,     1]], dtype=int32)"
      ]
     },
     "execution_count": 24,
     "metadata": {
      "tags": []
     },
     "output_type": "execute_result"
    }
   ],
   "source": [
    "# Paddig them to a fixed size\n",
    "input_ids_ts=pad_sequences(inputs_ts,padding='post',maxlen=96,value=1)\n",
    "print(input_ids_ts.shape)\n",
    "input_ids_ts"
   ]
  },
  {
   "cell_type": "code",
   "execution_count": 25,
   "metadata": {
    "colab": {
     "base_uri": "https://localhost:8080/",
     "height": 163
    },
    "executionInfo": {
     "elapsed": 9560,
     "status": "ok",
     "timestamp": 1602670999678,
     "user": {
      "displayName": "Venkata Praneeth",
      "photoUrl": "https://lh3.googleusercontent.com/a-/AOh14Gh73fGtdIa9z0SiL3PC0HTluCYFT184KfwwzLY98Q=s64",
      "userId": "18102774549844806905"
     },
     "user_tz": -330
    },
    "id": "2qI3ptdMOMER",
    "outputId": "9225f4c6-aef0-46e2-85c8-6432884d37b5"
   },
   "outputs": [
    {
     "name": "stdout",
     "output_type": "stream",
     "text": [
      "(21984, 96)\n"
     ]
    },
    {
     "data": {
      "text/plain": [
       "array([[1, 1, 1, ..., 0, 0, 0],\n",
       "       [1, 1, 1, ..., 0, 0, 0],\n",
       "       [1, 1, 1, ..., 0, 0, 0],\n",
       "       ...,\n",
       "       [1, 1, 1, ..., 0, 0, 0],\n",
       "       [1, 1, 1, ..., 0, 0, 0],\n",
       "       [1, 1, 1, ..., 0, 0, 0]], dtype=int32)"
      ]
     },
     "execution_count": 25,
     "metadata": {
      "tags": []
     },
     "output_type": "execute_result"
    }
   ],
   "source": [
    "attention_masks_tr=pad_sequences(masks,padding='post',maxlen=96)\n",
    "print(attention_masks_tr.shape)\n",
    "attention_masks_tr"
   ]
  },
  {
   "cell_type": "code",
   "execution_count": 26,
   "metadata": {
    "colab": {
     "base_uri": "https://localhost:8080/",
     "height": 163
    },
    "executionInfo": {
     "elapsed": 6686,
     "status": "ok",
     "timestamp": 1602670999683,
     "user": {
      "displayName": "Venkata Praneeth",
      "photoUrl": "https://lh3.googleusercontent.com/a-/AOh14Gh73fGtdIa9z0SiL3PC0HTluCYFT184KfwwzLY98Q=s64",
      "userId": "18102774549844806905"
     },
     "user_tz": -330
    },
    "id": "1NrFH4vlOhdj",
    "outputId": "500204b4-56b9-40c2-e226-2b3378915ae0"
   },
   "outputs": [
    {
     "name": "stdout",
     "output_type": "stream",
     "text": [
      "(5497, 96)\n"
     ]
    },
    {
     "data": {
      "text/plain": [
       "array([[1, 1, 1, ..., 0, 0, 0],\n",
       "       [1, 1, 1, ..., 0, 0, 0],\n",
       "       [1, 1, 1, ..., 0, 0, 0],\n",
       "       ...,\n",
       "       [1, 1, 1, ..., 0, 0, 0],\n",
       "       [1, 1, 1, ..., 0, 0, 0],\n",
       "       [1, 1, 1, ..., 0, 0, 0]], dtype=int32)"
      ]
     },
     "execution_count": 26,
     "metadata": {
      "tags": []
     },
     "output_type": "execute_result"
    }
   ],
   "source": [
    "attention_masks_ts=pad_sequences(masks_ts,padding='post',maxlen=96)\n",
    "print(attention_masks_ts.shape)\n",
    "attention_masks_ts"
   ]
  },
  {
   "cell_type": "code",
   "execution_count": 27,
   "metadata": {
    "colab": {
     "base_uri": "https://localhost:8080/",
     "height": 198
    },
    "executionInfo": {
     "elapsed": 4232,
     "status": "ok",
     "timestamp": 1602670999685,
     "user": {
      "displayName": "Venkata Praneeth",
      "photoUrl": "https://lh3.googleusercontent.com/a-/AOh14Gh73fGtdIa9z0SiL3PC0HTluCYFT184KfwwzLY98Q=s64",
      "userId": "18102774549844806905"
     },
     "user_tz": -330
    },
    "id": "nY871Lht1Pl7",
    "outputId": "5a1126c0-06a7-4022-afef-040da044bb89"
   },
   "outputs": [
    {
     "data": {
      "text/html": [
       "<div>\n",
       "<style scoped>\n",
       "    .dataframe tbody tr th:only-of-type {\n",
       "        vertical-align: middle;\n",
       "    }\n",
       "\n",
       "    .dataframe tbody tr th {\n",
       "        vertical-align: top;\n",
       "    }\n",
       "\n",
       "    .dataframe thead th {\n",
       "        text-align: right;\n",
       "    }\n",
       "</style>\n",
       "<table border=\"1\" class=\"dataframe\">\n",
       "  <thead>\n",
       "    <tr style=\"text-align: right;\">\n",
       "      <th></th>\n",
       "      <th>textID</th>\n",
       "      <th>text</th>\n",
       "      <th>selected_text</th>\n",
       "      <th>sentiment</th>\n",
       "    </tr>\n",
       "  </thead>\n",
       "  <tbody>\n",
       "    <tr>\n",
       "      <th>0</th>\n",
       "      <td>6faba78e87</td>\n",
       "      <td>translation = complicated sh-t that someone is...</td>\n",
       "      <td>complicated sh-t</td>\n",
       "      <td>negative</td>\n",
       "    </tr>\n",
       "    <tr>\n",
       "      <th>1</th>\n",
       "      <td>0b0b53bd74</td>\n",
       "      <td>Mummy and Nathan not in today! On My Todd!</td>\n",
       "      <td>Mummy and Nathan not in today! On My Todd!</td>\n",
       "      <td>neutral</td>\n",
       "    </tr>\n",
       "    <tr>\n",
       "      <th>2</th>\n",
       "      <td>cc73efff2b</td>\n",
       "      <td>This song is a slap on you face!!  ? http://bl...</td>\n",
       "      <td>This song is a slap on you face!!  ? http://bl...</td>\n",
       "      <td>negative</td>\n",
       "    </tr>\n",
       "    <tr>\n",
       "      <th>3</th>\n",
       "      <td>894782cf8a</td>\n",
       "      <td>Good days with good friends make me not regret...</td>\n",
       "      <td>Good days with good friends ma</td>\n",
       "      <td>positive</td>\n",
       "    </tr>\n",
       "    <tr>\n",
       "      <th>4</th>\n",
       "      <td>7452b730f8</td>\n",
       "      <td>Yeah ill make sure i keep you updated.. i get ...</td>\n",
       "      <td>Yeah ill make sure i keep you updated.. i get ...</td>\n",
       "      <td>neutral</td>\n",
       "    </tr>\n",
       "  </tbody>\n",
       "</table>\n",
       "</div>"
      ],
      "text/plain": [
       "       textID  ... sentiment\n",
       "0  6faba78e87  ...  negative\n",
       "1  0b0b53bd74  ...   neutral\n",
       "2  cc73efff2b  ...  negative\n",
       "3  894782cf8a  ...  positive\n",
       "4  7452b730f8  ...   neutral\n",
       "\n",
       "[5 rows x 4 columns]"
      ]
     },
     "execution_count": 27,
     "metadata": {
      "tags": []
     },
     "output_type": "execute_result"
    }
   ],
   "source": [
    "train_copy.head()"
   ]
  },
  {
   "cell_type": "code",
   "execution_count": 28,
   "metadata": {
    "colab": {
     "base_uri": "https://localhost:8080/",
     "height": 108
    },
    "executionInfo": {
     "elapsed": 1806,
     "status": "ok",
     "timestamp": 1602671005439,
     "user": {
      "displayName": "Venkata Praneeth",
      "photoUrl": "https://lh3.googleusercontent.com/a-/AOh14Gh73fGtdIa9z0SiL3PC0HTluCYFT184KfwwzLY98Q=s64",
      "userId": "18102774549844806905"
     },
     "user_tz": -330
    },
    "id": "iGtESm5YJDVU",
    "outputId": "b51a4dc2-381f-468d-dc63-c05149b706d5"
   },
   "outputs": [
    {
     "data": {
      "text/html": [
       "<div>\n",
       "<style scoped>\n",
       "    .dataframe tbody tr th:only-of-type {\n",
       "        vertical-align: middle;\n",
       "    }\n",
       "\n",
       "    .dataframe tbody tr th {\n",
       "        vertical-align: top;\n",
       "    }\n",
       "\n",
       "    .dataframe thead th {\n",
       "        text-align: right;\n",
       "    }\n",
       "</style>\n",
       "<table border=\"1\" class=\"dataframe\">\n",
       "  <thead>\n",
       "    <tr style=\"text-align: right;\">\n",
       "      <th></th>\n",
       "      <th>textID</th>\n",
       "      <th>text</th>\n",
       "      <th>selected_text</th>\n",
       "      <th>sentiment</th>\n",
       "      <th>labels</th>\n",
       "    </tr>\n",
       "  </thead>\n",
       "  <tbody>\n",
       "    <tr>\n",
       "      <th>0</th>\n",
       "      <td>6faba78e87</td>\n",
       "      <td>translation = complicated sh-t that someone is...</td>\n",
       "      <td>complicated sh-t</td>\n",
       "      <td>negative</td>\n",
       "      <td>[0.0, 0.0, 1.0, 1.0, 0.0, 0.0, 0.0, 0.0, 0.0, ...</td>\n",
       "    </tr>\n",
       "    <tr>\n",
       "      <th>1</th>\n",
       "      <td>0b0b53bd74</td>\n",
       "      <td>Mummy and Nathan not in today! On My Todd!</td>\n",
       "      <td>Mummy and Nathan not in today! On My Todd!</td>\n",
       "      <td>neutral</td>\n",
       "      <td>[1.0, 1.0, 1.0, 1.0, 1.0, 1.0, 1.0, 1.0, 1.0]</td>\n",
       "    </tr>\n",
       "  </tbody>\n",
       "</table>\n",
       "</div>"
      ],
      "text/plain": [
       "       textID  ...                                             labels\n",
       "0  6faba78e87  ...  [0.0, 0.0, 1.0, 1.0, 0.0, 0.0, 0.0, 0.0, 0.0, ...\n",
       "1  0b0b53bd74  ...      [1.0, 1.0, 1.0, 1.0, 1.0, 1.0, 1.0, 1.0, 1.0]\n",
       "\n",
       "[2 rows x 5 columns]"
      ]
     },
     "execution_count": 28,
     "metadata": {
      "tags": []
     },
     "output_type": "execute_result"
    }
   ],
   "source": [
    "def labels(df):  \n",
    "  string=df['text']  \n",
    "  words=list(string.split())  \n",
    "  l=len(words)  \n",
    "  label=np.zeros(l)  \n",
    "  label.astype(np.bool)  \n",
    "  target=df['selected_text']  \n",
    "  st_words=list(target.split())  \n",
    "  for i in st_words:    \n",
    "    try:      \n",
    "      num=words.index(i)      \n",
    "      label[num]=1    \n",
    "    except ValueError:            \n",
    "      pass    \n",
    "  return label\n",
    "train_copy['labels']=train_copy.apply(labels,axis=1)  \n",
    "test_copy['labels']=test_copy.apply(labels,axis=1)  \n",
    "train_copy.head(2)"
   ]
  },
  {
   "cell_type": "code",
   "execution_count": 29,
   "metadata": {
    "colab": {
     "base_uri": "https://localhost:8080/",
     "height": 198
    },
    "executionInfo": {
     "elapsed": 1384,
     "status": "ok",
     "timestamp": 1602671012074,
     "user": {
      "displayName": "Venkata Praneeth",
      "photoUrl": "https://lh3.googleusercontent.com/a-/AOh14Gh73fGtdIa9z0SiL3PC0HTluCYFT184KfwwzLY98Q=s64",
      "userId": "18102774549844806905"
     },
     "user_tz": -330
    },
    "id": "ScTLtIt8JZeS",
    "outputId": "b1f3e355-8850-4840-adea-b49d4fb03cad"
   },
   "outputs": [
    {
     "data": {
      "text/html": [
       "<div>\n",
       "<style scoped>\n",
       "    .dataframe tbody tr th:only-of-type {\n",
       "        vertical-align: middle;\n",
       "    }\n",
       "\n",
       "    .dataframe tbody tr th {\n",
       "        vertical-align: top;\n",
       "    }\n",
       "\n",
       "    .dataframe thead th {\n",
       "        text-align: right;\n",
       "    }\n",
       "</style>\n",
       "<table border=\"1\" class=\"dataframe\">\n",
       "  <thead>\n",
       "    <tr style=\"text-align: right;\">\n",
       "      <th></th>\n",
       "      <th>textID</th>\n",
       "      <th>text</th>\n",
       "      <th>selected_text</th>\n",
       "      <th>sentiment</th>\n",
       "      <th>labels</th>\n",
       "    </tr>\n",
       "  </thead>\n",
       "  <tbody>\n",
       "    <tr>\n",
       "      <th>0</th>\n",
       "      <td>1e4bcc6393</td>\n",
       "      <td>come home, then. Not so boring here.</td>\n",
       "      <td>so boring here.</td>\n",
       "      <td>negative</td>\n",
       "      <td>[0.0, 0.0, 0.0, 0.0, 1.0, 1.0, 1.0]</td>\n",
       "    </tr>\n",
       "    <tr>\n",
       "      <th>1</th>\n",
       "      <td>c98b54f57f</td>\n",
       "      <td>X-Men:Wolverine was hot! I say go watch it</td>\n",
       "      <td>was hot!</td>\n",
       "      <td>positive</td>\n",
       "      <td>[0.0, 1.0, 1.0, 0.0, 0.0, 0.0, 0.0, 0.0]</td>\n",
       "    </tr>\n",
       "    <tr>\n",
       "      <th>2</th>\n",
       "      <td>3c66250da9</td>\n",
       "      <td>to the people i was txting... sorry phone is d...</td>\n",
       "      <td>to the people i was txting... sorry phone is d...</td>\n",
       "      <td>neutral</td>\n",
       "      <td>[1.0, 1.0, 1.0, 1.0, 1.0, 1.0, 1.0, 1.0, 1.0, ...</td>\n",
       "    </tr>\n",
       "    <tr>\n",
       "      <th>3</th>\n",
       "      <td>30e7601bce</td>\n",
       "      <td>i know!  i wish she would. I just wanna cuddle...</td>\n",
       "      <td>i wish</td>\n",
       "      <td>positive</td>\n",
       "      <td>[1.0, 0.0, 0.0, 1.0, 0.0, 0.0, 0.0, 0.0, 0.0, ...</td>\n",
       "    </tr>\n",
       "    <tr>\n",
       "      <th>4</th>\n",
       "      <td>95fe7c81b9</td>\n",
       "      <td>I was just watching some cartoons as I haven`t...</td>\n",
       "      <td>I was just watching some cartoons as I haven`t...</td>\n",
       "      <td>neutral</td>\n",
       "      <td>[1.0, 1.0, 1.0, 1.0, 1.0, 1.0, 1.0, 0.0, 1.0, ...</td>\n",
       "    </tr>\n",
       "  </tbody>\n",
       "</table>\n",
       "</div>"
      ],
      "text/plain": [
       "       textID  ...                                             labels\n",
       "0  1e4bcc6393  ...                [0.0, 0.0, 0.0, 0.0, 1.0, 1.0, 1.0]\n",
       "1  c98b54f57f  ...           [0.0, 1.0, 1.0, 0.0, 0.0, 0.0, 0.0, 0.0]\n",
       "2  3c66250da9  ...  [1.0, 1.0, 1.0, 1.0, 1.0, 1.0, 1.0, 1.0, 1.0, ...\n",
       "3  30e7601bce  ...  [1.0, 0.0, 0.0, 1.0, 0.0, 0.0, 0.0, 0.0, 0.0, ...\n",
       "4  95fe7c81b9  ...  [1.0, 1.0, 1.0, 1.0, 1.0, 1.0, 1.0, 0.0, 1.0, ...\n",
       "\n",
       "[5 rows x 5 columns]"
      ]
     },
     "execution_count": 29,
     "metadata": {
      "tags": []
     },
     "output_type": "execute_result"
    }
   ],
   "source": [
    "test_copy.head()"
   ]
  },
  {
   "cell_type": "code",
   "execution_count": 30,
   "metadata": {
    "colab": {
     "base_uri": "https://localhost:8080/",
     "height": 35
    },
    "executionInfo": {
     "elapsed": 3623,
     "status": "ok",
     "timestamp": 1602671044216,
     "user": {
      "displayName": "Venkata Praneeth",
      "photoUrl": "https://lh3.googleusercontent.com/a-/AOh14Gh73fGtdIa9z0SiL3PC0HTluCYFT184KfwwzLY98Q=s64",
      "userId": "18102774549844806905"
     },
     "user_tz": -330
    },
    "id": "W8eI4nwC6nCX",
    "outputId": "f26bf377-bed6-4396-ea78-570c89e1e478"
   },
   "outputs": [
    {
     "data": {
      "text/plain": [
       "array([0., 0., 0., 0., 1., 1., 1.])"
      ]
     },
     "execution_count": 30,
     "metadata": {
      "tags": []
     },
     "output_type": "execute_result"
    }
   ],
   "source": [
    "test_copy['labels'][0]"
   ]
  },
  {
   "cell_type": "code",
   "execution_count": 31,
   "metadata": {
    "colab": {
     "base_uri": "https://localhost:8080/",
     "height": 181
    },
    "executionInfo": {
     "elapsed": 5203,
     "status": "ok",
     "timestamp": 1602671045847,
     "user": {
      "displayName": "Venkata Praneeth",
      "photoUrl": "https://lh3.googleusercontent.com/a-/AOh14Gh73fGtdIa9z0SiL3PC0HTluCYFT184KfwwzLY98Q=s64",
      "userId": "18102774549844806905"
     },
     "user_tz": -330
    },
    "id": "j9U47z02J0pK",
    "outputId": "f95f08d4-2048-4ac5-8d25-3bb56178c791"
   },
   "outputs": [
    {
     "name": "stdout",
     "output_type": "stream",
     "text": [
      "(5497, 96)\n",
      "<class 'numpy.ndarray'>\n",
      "[[0 0 0 ... 2 2 2]\n",
      " [0 1 1 ... 2 2 2]\n",
      " [1 1 1 ... 2 2 2]\n",
      " ...\n",
      " [0 1 0 ... 2 2 2]\n",
      " [1 1 1 ... 2 2 2]\n",
      " [0 0 0 ... 2 2 2]]\n"
     ]
    }
   ],
   "source": [
    "from keras.preprocessing.sequence import pad_sequences\n",
    "y_pad_ts=pad_sequences(test_copy['labels'],maxlen=96, padding='post',value=2) \n",
    "#y_ts_pad=pad_sequences(Y_test,maxlen=50, padding='post') \n",
    "print(y_pad_ts.shape) \n",
    "print(type(y_pad_ts)) \n",
    "print(y_pad_ts)"
   ]
  },
  {
   "cell_type": "code",
   "execution_count": 32,
   "metadata": {
    "colab": {
     "base_uri": "https://localhost:8080/",
     "height": 181
    },
    "executionInfo": {
     "elapsed": 5168,
     "status": "ok",
     "timestamp": 1602671045848,
     "user": {
      "displayName": "Venkata Praneeth",
      "photoUrl": "https://lh3.googleusercontent.com/a-/AOh14Gh73fGtdIa9z0SiL3PC0HTluCYFT184KfwwzLY98Q=s64",
      "userId": "18102774549844806905"
     },
     "user_tz": -330
    },
    "id": "Wk-bo-inKHac",
    "outputId": "ba61fc70-7f46-4116-b6cd-01d10728972a"
   },
   "outputs": [
    {
     "name": "stdout",
     "output_type": "stream",
     "text": [
      "(21984, 96)\n",
      "<class 'numpy.ndarray'>\n",
      "[[0 0 1 ... 2 2 2]\n",
      " [1 1 1 ... 2 2 2]\n",
      " [1 1 1 ... 2 2 2]\n",
      " ...\n",
      " [0 0 0 ... 2 2 2]\n",
      " [1 0 0 ... 2 2 2]\n",
      " [0 0 0 ... 2 2 2]]\n"
     ]
    }
   ],
   "source": [
    "y_pad_tr=pad_sequences(train_copy['labels'],maxlen=96, padding='post',value=2) \n",
    "#y_ts_pad=pad_sequences(Y_test,maxlen=50, padding='post') \n",
    "print(y_pad_tr.shape) \n",
    "print(type(y_pad_tr)) \n",
    "print(y_pad_tr)"
   ]
  },
  {
   "cell_type": "code",
   "execution_count": 33,
   "metadata": {
    "executionInfo": {
     "elapsed": 5140,
     "status": "ok",
     "timestamp": 1602671045850,
     "user": {
      "displayName": "Venkata Praneeth",
      "photoUrl": "https://lh3.googleusercontent.com/a-/AOh14Gh73fGtdIa9z0SiL3PC0HTluCYFT184KfwwzLY98Q=s64",
      "userId": "18102774549844806905"
     },
     "user_tz": -330
    },
    "id": "Vk4__R7XKQDa"
   },
   "outputs": [],
   "source": [
    "start_tr=np.zeros((len(y_pad_tr),96))\n",
    "for i in range(y_pad_tr.shape[0]):\n",
    "  for j in range(96):\n",
    "    if(y_pad_tr[i][j]==1):\n",
    "      start_tr[i][j]=1\n",
    "      break"
   ]
  },
  {
   "cell_type": "code",
   "execution_count": 34,
   "metadata": {
    "executionInfo": {
     "elapsed": 5142,
     "status": "ok",
     "timestamp": 1602671045869,
     "user": {
      "displayName": "Venkata Praneeth",
      "photoUrl": "https://lh3.googleusercontent.com/a-/AOh14Gh73fGtdIa9z0SiL3PC0HTluCYFT184KfwwzLY98Q=s64",
      "userId": "18102774549844806905"
     },
     "user_tz": -330
    },
    "id": "Fqrf6464KSg-"
   },
   "outputs": [],
   "source": [
    "start_ts=np.zeros((len(y_pad_ts),96))\n",
    "for i in range(y_pad_ts.shape[0]):\n",
    "  for j in range(96):\n",
    "    if(y_pad_ts[i][j]==1):\n",
    "      start_ts[i][j]=1\n",
    "      break"
   ]
  },
  {
   "cell_type": "code",
   "execution_count": 35,
   "metadata": {
    "executionInfo": {
     "elapsed": 8897,
     "status": "ok",
     "timestamp": 1602671049657,
     "user": {
      "displayName": "Venkata Praneeth",
      "photoUrl": "https://lh3.googleusercontent.com/a-/AOh14Gh73fGtdIa9z0SiL3PC0HTluCYFT184KfwwzLY98Q=s64",
      "userId": "18102774549844806905"
     },
     "user_tz": -330
    },
    "id": "6hF39iAdKVOt"
   },
   "outputs": [],
   "source": [
    "end_tr=np.zeros((len(y_pad_tr),96))\n",
    "for i in range(y_pad_tr.shape[0]):\n",
    "  for j in range(95,-1,-1):\n",
    "    if(y_pad_tr[i][j]==1):\n",
    "      end_tr[i][j]=1\n",
    "      break"
   ]
  },
  {
   "cell_type": "code",
   "execution_count": 36,
   "metadata": {
    "executionInfo": {
     "elapsed": 9500,
     "status": "ok",
     "timestamp": 1602671050288,
     "user": {
      "displayName": "Venkata Praneeth",
      "photoUrl": "https://lh3.googleusercontent.com/a-/AOh14Gh73fGtdIa9z0SiL3PC0HTluCYFT184KfwwzLY98Q=s64",
      "userId": "18102774549844806905"
     },
     "user_tz": -330
    },
    "id": "1FBQ2NFQKXuS"
   },
   "outputs": [],
   "source": [
    "end_ts=np.zeros((len(y_pad_ts),96))\n",
    "for i in range(y_pad_ts.shape[0]):\n",
    "  for j in range(95,-1,-1):\n",
    "    if(y_pad_ts[i][j]==1):\n",
    "      end_ts[i][j]=1\n",
    "      break"
   ]
  },
  {
   "cell_type": "code",
   "execution_count": 37,
   "metadata": {
    "colab": {
     "base_uri": "https://localhost:8080/",
     "height": 35
    },
    "executionInfo": {
     "elapsed": 9484,
     "status": "ok",
     "timestamp": 1602671050289,
     "user": {
      "displayName": "Venkata Praneeth",
      "photoUrl": "https://lh3.googleusercontent.com/a-/AOh14Gh73fGtdIa9z0SiL3PC0HTluCYFT184KfwwzLY98Q=s64",
      "userId": "18102774549844806905"
     },
     "user_tz": -330
    },
    "id": "1-KFxWf3Df2e",
    "outputId": "fe550c7a-237b-47b9-bf16-c076c2b6427b"
   },
   "outputs": [
    {
     "data": {
      "text/plain": [
       "array([1., 1., 1., 1., 1., 1., 1., 1., 1.])"
      ]
     },
     "execution_count": 37,
     "metadata": {
      "tags": []
     },
     "output_type": "execute_result"
    }
   ],
   "source": [
    "train_copy.labels[1]"
   ]
  },
  {
   "cell_type": "code",
   "execution_count": 38,
   "metadata": {
    "colab": {
     "base_uri": "https://localhost:8080/",
     "height": 126
    },
    "executionInfo": {
     "elapsed": 9446,
     "status": "ok",
     "timestamp": 1602671050290,
     "user": {
      "displayName": "Venkata Praneeth",
      "photoUrl": "https://lh3.googleusercontent.com/a-/AOh14Gh73fGtdIa9z0SiL3PC0HTluCYFT184KfwwzLY98Q=s64",
      "userId": "18102774549844806905"
     },
     "user_tz": -330
    },
    "id": "rNeTE-YjKg4H",
    "outputId": "a0db4666-cb9d-4e45-e6fd-efe73621986a"
   },
   "outputs": [
    {
     "data": {
      "text/plain": [
       "array([1., 0., 0., 0., 0., 0., 0., 0., 0., 0., 0., 0., 0., 0., 0., 0., 0.,\n",
       "       0., 0., 0., 0., 0., 0., 0., 0., 0., 0., 0., 0., 0., 0., 0., 0., 0.,\n",
       "       0., 0., 0., 0., 0., 0., 0., 0., 0., 0., 0., 0., 0., 0., 0., 0., 0.,\n",
       "       0., 0., 0., 0., 0., 0., 0., 0., 0., 0., 0., 0., 0., 0., 0., 0., 0.,\n",
       "       0., 0., 0., 0., 0., 0., 0., 0., 0., 0., 0., 0., 0., 0., 0., 0., 0.,\n",
       "       0., 0., 0., 0., 0., 0., 0., 0., 0., 0., 0.])"
      ]
     },
     "execution_count": 38,
     "metadata": {
      "tags": []
     },
     "output_type": "execute_result"
    }
   ],
   "source": [
    "start_tr[1]"
   ]
  },
  {
   "cell_type": "code",
   "execution_count": 39,
   "metadata": {
    "colab": {
     "base_uri": "https://localhost:8080/",
     "height": 126
    },
    "executionInfo": {
     "elapsed": 9418,
     "status": "ok",
     "timestamp": 1602671050291,
     "user": {
      "displayName": "Venkata Praneeth",
      "photoUrl": "https://lh3.googleusercontent.com/a-/AOh14Gh73fGtdIa9z0SiL3PC0HTluCYFT184KfwwzLY98Q=s64",
      "userId": "18102774549844806905"
     },
     "user_tz": -330
    },
    "id": "IzWqADpNK_nA",
    "outputId": "6efb030e-44b7-4390-8c42-fca5eb010a4d"
   },
   "outputs": [
    {
     "data": {
      "text/plain": [
       "array([0., 0., 0., 0., 0., 0., 0., 0., 1., 0., 0., 0., 0., 0., 0., 0., 0.,\n",
       "       0., 0., 0., 0., 0., 0., 0., 0., 0., 0., 0., 0., 0., 0., 0., 0., 0.,\n",
       "       0., 0., 0., 0., 0., 0., 0., 0., 0., 0., 0., 0., 0., 0., 0., 0., 0.,\n",
       "       0., 0., 0., 0., 0., 0., 0., 0., 0., 0., 0., 0., 0., 0., 0., 0., 0.,\n",
       "       0., 0., 0., 0., 0., 0., 0., 0., 0., 0., 0., 0., 0., 0., 0., 0., 0.,\n",
       "       0., 0., 0., 0., 0., 0., 0., 0., 0., 0., 0.])"
      ]
     },
     "execution_count": 39,
     "metadata": {
      "tags": []
     },
     "output_type": "execute_result"
    }
   ],
   "source": [
    "end_tr[1]"
   ]
  },
  {
   "cell_type": "code",
   "execution_count": 40,
   "metadata": {
    "colab": {
     "base_uri": "https://localhost:8080/",
     "height": 228,
     "referenced_widgets": [
      "ae60c86565f74e43b29bad0259c18309",
      "d291bedc761d46efb05d8de62b6e52c3",
      "bf2c02f09592419d871e4e254e3a0659",
      "9a27d08eb17d4e9c89d9bdad106b2a66",
      "6fd1e9c169ee428099bf9d761c00dfbc",
      "5bd8e568046e45b598c6ff53d2a7b48e",
      "1ca995bca8d7493c93fbf06b3ea89ada",
      "7d9de46ac51744d8b0760abe1d90fa35",
      "8fac12f7755842ae9803e77a1d1d3e15",
      "371756c685234d2287fe1fc0140d07d6",
      "96cafb9efbf642928355932ef75a2c6e",
      "9b12042d376342578cbee91f560fdd7d",
      "c3e9003df312460ba236a5e2c0e5e1a2",
      "c41fe999021543e5a2d4ea96ebcb14d3",
      "60900b29c1184e63a5ba48c4afa2d248",
      "3200421bdda2410fa93c751ee5428e40"
     ]
    },
    "executionInfo": {
     "elapsed": 39476,
     "status": "ok",
     "timestamp": 1602671080403,
     "user": {
      "displayName": "Venkata Praneeth",
      "photoUrl": "https://lh3.googleusercontent.com/a-/AOh14Gh73fGtdIa9z0SiL3PC0HTluCYFT184KfwwzLY98Q=s64",
      "userId": "18102774549844806905"
     },
     "user_tz": -330
    },
    "id": "JeVXoM4uLChE",
    "outputId": "45911e15-2357-4a48-f504-71d15658d140"
   },
   "outputs": [
    {
     "data": {
      "application/vnd.jupyter.widget-view+json": {
       "model_id": "ae60c86565f74e43b29bad0259c18309",
       "version_major": 2,
       "version_minor": 0
      },
      "text/plain": [
       "HBox(children=(FloatProgress(value=0.0, description='Downloading', max=481.0, style=ProgressStyle(description_…"
      ]
     },
     "metadata": {
      "tags": []
     },
     "output_type": "display_data"
    },
    {
     "name": "stdout",
     "output_type": "stream",
     "text": [
      "\n"
     ]
    },
    {
     "data": {
      "application/vnd.jupyter.widget-view+json": {
       "model_id": "8fac12f7755842ae9803e77a1d1d3e15",
       "version_major": 2,
       "version_minor": 0
      },
      "text/plain": [
       "HBox(children=(FloatProgress(value=0.0, description='Downloading', max=657434796.0, style=ProgressStyle(descri…"
      ]
     },
     "metadata": {
      "tags": []
     },
     "output_type": "display_data"
    },
    {
     "name": "stdout",
     "output_type": "stream",
     "text": [
      "\n"
     ]
    },
    {
     "name": "stderr",
     "output_type": "stream",
     "text": [
      "Some weights of the model checkpoint at roberta-base were not used when initializing TFRobertaModel: ['lm_head']\n",
      "- This IS expected if you are initializing TFRobertaModel from the checkpoint of a model trained on another task or with another architecture (e.g. initializing a BertForSequenceClassification model from a BertForPretraining model).\n",
      "- This IS NOT expected if you are initializing TFRobertaModel from the checkpoint of a model that you expect to be exactly identical (initializing a BertForSequenceClassification model from a BertForSequenceClassification model).\n",
      "All the weights of TFRobertaModel were initialized from the model checkpoint at roberta-base.\n",
      "If your task is similar to the task the model of the checkpoint was trained on, you can already use TFRobertaModel for predictions without further training.\n"
     ]
    }
   ],
   "source": [
    "model = TFRobertaModel.from_pretrained('roberta-base')"
   ]
  },
  {
   "cell_type": "code",
   "execution_count": 41,
   "metadata": {
    "colab": {
     "base_uri": "https://localhost:8080/",
     "height": 35
    },
    "executionInfo": {
     "elapsed": 39439,
     "status": "ok",
     "timestamp": 1602671080405,
     "user": {
      "displayName": "Venkata Praneeth",
      "photoUrl": "https://lh3.googleusercontent.com/a-/AOh14Gh73fGtdIa9z0SiL3PC0HTluCYFT184KfwwzLY98Q=s64",
      "userId": "18102774549844806905"
     },
     "user_tz": -330
    },
    "id": "PqGHOcPpEcHs",
    "outputId": "d1ffa19c-af97-429f-8a18-05276bc68807"
   },
   "outputs": [
    {
     "data": {
      "text/plain": [
       "(21984, 96)"
      ]
     },
     "execution_count": 41,
     "metadata": {
      "tags": []
     },
     "output_type": "execute_result"
    }
   ],
   "source": [
    "start_tr.shape"
   ]
  },
  {
   "cell_type": "code",
   "execution_count": 42,
   "metadata": {
    "colab": {
     "base_uri": "https://localhost:8080/",
     "height": 35
    },
    "executionInfo": {
     "elapsed": 39412,
     "status": "ok",
     "timestamp": 1602671080409,
     "user": {
      "displayName": "Venkata Praneeth",
      "photoUrl": "https://lh3.googleusercontent.com/a-/AOh14Gh73fGtdIa9z0SiL3PC0HTluCYFT184KfwwzLY98Q=s64",
      "userId": "18102774549844806905"
     },
     "user_tz": -330
    },
    "id": "zWqcL-TW7fEv",
    "outputId": "a834d909-30cc-44d4-89eb-3fb96558fcb5"
   },
   "outputs": [
    {
     "data": {
      "text/plain": [
       "(21984, 96)"
      ]
     },
     "execution_count": 42,
     "metadata": {
      "tags": []
     },
     "output_type": "execute_result"
    }
   ],
   "source": [
    "y_pad_tr.shape"
   ]
  },
  {
   "cell_type": "code",
   "execution_count": 43,
   "metadata": {
    "colab": {
     "base_uri": "https://localhost:8080/",
     "height": 54
    },
    "executionInfo": {
     "elapsed": 39375,
     "status": "ok",
     "timestamp": 1602671080410,
     "user": {
      "displayName": "Venkata Praneeth",
      "photoUrl": "https://lh3.googleusercontent.com/a-/AOh14Gh73fGtdIa9z0SiL3PC0HTluCYFT184KfwwzLY98Q=s64",
      "userId": "18102774549844806905"
     },
     "user_tz": -330
    },
    "id": "uLaWa5nKFEcT",
    "outputId": "b51ca468-3636-4235-e30b-0a16583fdf20"
   },
   "outputs": [
    {
     "name": "stdout",
     "output_type": "stream",
     "text": [
      "(21984, 96, 1)\n",
      "(5497, 96, 1)\n"
     ]
    }
   ],
   "source": [
    "Y_tr=np.reshape(y_pad_tr,(-1,96,1)) \n",
    "print(Y_tr.shape) \n",
    "Y_ts=np.reshape(y_pad_ts,(-1,96,1)) \n",
    "print(Y_ts.shape)"
   ]
  },
  {
   "cell_type": "code",
   "execution_count": 44,
   "metadata": {
    "executionInfo": {
     "elapsed": 39345,
     "status": "ok",
     "timestamp": 1602671080412,
     "user": {
      "displayName": "Venkata Praneeth",
      "photoUrl": "https://lh3.googleusercontent.com/a-/AOh14Gh73fGtdIa9z0SiL3PC0HTluCYFT184KfwwzLY98Q=s64",
      "userId": "18102774549844806905"
     },
     "user_tz": -330
    },
    "id": "KjyhS6wZ7Nbr"
   },
   "outputs": [],
   "source": [
    "def maskedLoss(y_true, y_pred):    \n",
    "  loss_function = tf.keras.losses.BinaryCrossentropy(from_logits=False, reduction='none')\n",
    " #getting mask value    \n",
    "  mask = tf.math.logical_not(tf.math.equal(y_true, 2))\n",
    " \n",
    " #calculating the loss    \n",
    "  loss_ = loss_function(y_true, y_pred)    \n",
    "  loss_=tf.reshape(loss_,(-1,96,1))    \n",
    " #print(loss_)    \n",
    " #print(loss_.shape)\n",
    " \n",
    " #converting mask dtype to loss_ dtype    \n",
    "  mask = tf.cast(mask, dtype='int32')\n",
    " \n",
    " #applying the mask to loss    \n",
    "  loss_ = loss_*mask    \n",
    " #print(loss_)\n",
    " \n",
    " #getting mean over all the values    \n",
    "  loss_ = tf.reduce_sum(loss_)/tf.reduce_sum(mask)    \n",
    "  return loss_\n"
   ]
  },
  {
   "cell_type": "code",
   "execution_count": 45,
   "metadata": {
    "executionInfo": {
     "elapsed": 39326,
     "status": "ok",
     "timestamp": 1602671080415,
     "user": {
      "displayName": "Venkata Praneeth",
      "photoUrl": "https://lh3.googleusercontent.com/a-/AOh14Gh73fGtdIa9z0SiL3PC0HTluCYFT184KfwwzLY98Q=s64",
      "userId": "18102774549844806905"
     },
     "user_tz": -330
    },
    "id": "AxFYxtMPLLsJ"
   },
   "outputs": [],
   "source": [
    "def build_model():\n",
    "    MAX_LEN=96\n",
    "    ids = tf.keras.layers.Input((MAX_LEN,), dtype=tf.int32)\n",
    "    att = tf.keras.layers.Input((MAX_LEN,), dtype=tf.int32)\n",
    "\n",
    "    bert_model = TFRobertaModel.from_pretrained('roberta-base')\n",
    "    roberta = bert_model(ids,attention_mask=att)\n",
    "    \n",
    "    drop1 = tf.keras.layers.Dropout(0.1)(roberta[0]) \n",
    "    conv1 = tf.keras.layers.Conv1D(1,1)(drop1)\n",
    "    flat1 = tf.keras.layers.Flatten()(conv1)\n",
    "    out1 = tf.keras.layers.Activation('softmax')(flat1)\n",
    "    \n",
    "    drop2 = tf.keras.layers.Dropout(0.1)(roberta[0]) \n",
    "    conv2 = tf.keras.layers.Conv1D(1,1)(drop2)\n",
    "    flat2 = tf.keras.layers.Flatten()(conv2)\n",
    "    out2 = tf.keras.layers.Activation('softmax')(flat2)\n",
    "    \n",
    "    model = tf.keras.models.Model(inputs=[ids, att,], outputs=[out1,out2])\n",
    "    optimizer = tf.keras.optimizers.Adam(learning_rate=3e-5)\n",
    "    model.compile(loss='categorical_crossentropy', optimizer=optimizer, metrics=['accuracy'])\n",
    "\n",
    "    return model"
   ]
  },
  {
   "cell_type": "code",
   "execution_count": 47,
   "metadata": {
    "colab": {
     "base_uri": "https://localhost:8080/",
     "height": 692
    },
    "executionInfo": {
     "elapsed": 45525,
     "status": "ok",
     "timestamp": 1602671086669,
     "user": {
      "displayName": "Venkata Praneeth",
      "photoUrl": "https://lh3.googleusercontent.com/a-/AOh14Gh73fGtdIa9z0SiL3PC0HTluCYFT184KfwwzLY98Q=s64",
      "userId": "18102774549844806905"
     },
     "user_tz": -330
    },
    "id": "oDQyYDaVXn3u",
    "outputId": "aed469da-3cdf-4dbc-9e39-941470e3424f"
   },
   "outputs": [
    {
     "name": "stderr",
     "output_type": "stream",
     "text": [
      "Some weights of the model checkpoint at roberta-base were not used when initializing TFRobertaModel: ['lm_head']\n",
      "- This IS expected if you are initializing TFRobertaModel from the checkpoint of a model trained on another task or with another architecture (e.g. initializing a BertForSequenceClassification model from a BertForPretraining model).\n",
      "- This IS NOT expected if you are initializing TFRobertaModel from the checkpoint of a model that you expect to be exactly identical (initializing a BertForSequenceClassification model from a BertForSequenceClassification model).\n",
      "All the weights of TFRobertaModel were initialized from the model checkpoint at roberta-base.\n",
      "If your task is similar to the task the model of the checkpoint was trained on, you can already use TFRobertaModel for predictions without further training.\n"
     ]
    },
    {
     "name": "stdout",
     "output_type": "stream",
     "text": [
      "Model: \"functional_1\"\n",
      "__________________________________________________________________________________________________\n",
      "Layer (type)                    Output Shape         Param #     Connected to                     \n",
      "==================================================================================================\n",
      "input_1 (InputLayer)            [(None, 96)]         0                                            \n",
      "__________________________________________________________________________________________________\n",
      "input_2 (InputLayer)            [(None, 96)]         0                                            \n",
      "__________________________________________________________________________________________________\n",
      "tf_roberta_model_1 (TFRobertaMo ((None, 96, 768), (N 124645632   input_1[0][0]                    \n",
      "                                                                 input_2[0][0]                    \n",
      "__________________________________________________________________________________________________\n",
      "dropout_74 (Dropout)            (None, 96, 768)      0           tf_roberta_model_1[0][0]         \n",
      "__________________________________________________________________________________________________\n",
      "dropout_75 (Dropout)            (None, 96, 768)      0           tf_roberta_model_1[0][0]         \n",
      "__________________________________________________________________________________________________\n",
      "conv1d (Conv1D)                 (None, 96, 1)        769         dropout_74[0][0]                 \n",
      "__________________________________________________________________________________________________\n",
      "conv1d_1 (Conv1D)               (None, 96, 1)        769         dropout_75[0][0]                 \n",
      "__________________________________________________________________________________________________\n",
      "flatten (Flatten)               (None, 96)           0           conv1d[0][0]                     \n",
      "__________________________________________________________________________________________________\n",
      "flatten_1 (Flatten)             (None, 96)           0           conv1d_1[0][0]                   \n",
      "__________________________________________________________________________________________________\n",
      "activation_4 (Activation)       (None, 96)           0           flatten[0][0]                    \n",
      "__________________________________________________________________________________________________\n",
      "activation_5 (Activation)       (None, 96)           0           flatten_1[0][0]                  \n",
      "==================================================================================================\n",
      "Total params: 124,647,170\n",
      "Trainable params: 124,647,170\n",
      "Non-trainable params: 0\n",
      "__________________________________________________________________________________________________\n"
     ]
    }
   ],
   "source": [
    "model=build_model()\n",
    "model.summary()"
   ]
  },
  {
   "cell_type": "code",
   "execution_count": 48,
   "metadata": {
    "executionInfo": {
     "elapsed": 45493,
     "status": "ok",
     "timestamp": 1602671086673,
     "user": {
      "displayName": "Venkata Praneeth",
      "photoUrl": "https://lh3.googleusercontent.com/a-/AOh14Gh73fGtdIa9z0SiL3PC0HTluCYFT184KfwwzLY98Q=s64",
      "userId": "18102774549844806905"
     },
     "user_tz": -330
    },
    "id": "hDdAFpmVLarV"
   },
   "outputs": [],
   "source": [
    "#model=build_model1()\n",
    "#model.summary()"
   ]
  },
  {
   "cell_type": "code",
   "execution_count": 49,
   "metadata": {
    "executionInfo": {
     "elapsed": 45470,
     "status": "ok",
     "timestamp": 1602671086677,
     "user": {
      "displayName": "Venkata Praneeth",
      "photoUrl": "https://lh3.googleusercontent.com/a-/AOh14Gh73fGtdIa9z0SiL3PC0HTluCYFT184KfwwzLY98Q=s64",
      "userId": "18102774549844806905"
     },
     "user_tz": -330
    },
    "id": "iyjF13lBXy-5"
   },
   "outputs": [],
   "source": [
    "#from keras.utils import plot_model\n",
    "#plot_model(model, show_shapes=True,show_layer_names=True, to_file='model1.png')"
   ]
  },
  {
   "cell_type": "code",
   "execution_count": 50,
   "metadata": {
    "colab": {
     "base_uri": "https://localhost:8080/",
     "height": 644
    },
    "executionInfo": {
     "elapsed": 45451,
     "status": "ok",
     "timestamp": 1602671086679,
     "user": {
      "displayName": "Venkata Praneeth",
      "photoUrl": "https://lh3.googleusercontent.com/a-/AOh14Gh73fGtdIa9z0SiL3PC0HTluCYFT184KfwwzLY98Q=s64",
      "userId": "18102774549844806905"
     },
     "user_tz": -330
    },
    "id": "7S8TZ8N2Lgp9",
    "outputId": "47308537-52f8-43e2-9d26-57d0e5375cb0"
   },
   "outputs": [
    {
     "data": {
      "image/png": "[encoded data removed]",
      "text/plain": [
       "<IPython.core.display.Image object>"
      ]
     },
     "execution_count": 50,
     "metadata": {
      "tags": []
     },
     "output_type": "execute_result"
    }
   ],
   "source": [
    "from keras.utils import plot_model\n",
    "plot_model(model, show_shapes=True,show_layer_names=True, to_file='model1.png')"
   ]
  },
  {
   "cell_type": "code",
   "execution_count": 51,
   "metadata": {
    "colab": {
     "base_uri": "https://localhost:8080/",
     "height": 145
    },
    "executionInfo": {
     "elapsed": 45404,
     "status": "ok",
     "timestamp": 1602671086680,
     "user": {
      "displayName": "Venkata Praneeth",
      "photoUrl": "https://lh3.googleusercontent.com/a-/AOh14Gh73fGtdIa9z0SiL3PC0HTluCYFT184KfwwzLY98Q=s64",
      "userId": "18102774549844806905"
     },
     "user_tz": -330
    },
    "id": "uk43GUfNLs4P",
    "outputId": "d10d7833-15ab-4e9f-9440-38615f87b998"
   },
   "outputs": [
    {
     "data": {
      "text/plain": [
       "array([[    0, 48235,  5457, ...,     1,     1,     1],\n",
       "       [    0,   448, 22383, ...,     1,     1,     1],\n",
       "       [    0,   713,  2214, ...,     1,     1,     1],\n",
       "       ...,\n",
       "       [    0,   118, 23126, ...,     1,     1,     1],\n",
       "       [    0,   462,  4344, ...,     1,     1,     1],\n",
       "       [    0, 23692,     4, ...,     1,     1,     1]], dtype=int32)"
      ]
     },
     "execution_count": 51,
     "metadata": {
      "tags": []
     },
     "output_type": "execute_result"
    }
   ],
   "source": [
    "input_ids_tr"
   ]
  },
  {
   "cell_type": "code",
   "execution_count": 52,
   "metadata": {
    "executionInfo": {
     "elapsed": 45355,
     "status": "ok",
     "timestamp": 1602671086682,
     "user": {
      "displayName": "Venkata Praneeth",
      "photoUrl": "https://lh3.googleusercontent.com/a-/AOh14Gh73fGtdIa9z0SiL3PC0HTluCYFT184KfwwzLY98Q=s64",
      "userId": "18102774549844806905"
     },
     "user_tz": -330
    },
    "id": "1z8qN_siCnq7"
   },
   "outputs": [],
   "source": [
    "from keras.callbacks import ModelCheckpoint,TensorBoard,ReduceLROnPlateau, EarlyStopping\n",
    "import os\n",
    "import datetime\n",
    "es = EarlyStopping(monitor='val_accuracy', mode='max', patience=3, verbose=1) \n",
    "#mc = ModelCheckpoint('model.h5', monitor='val_accuracy', mode='max', save_best_only=True, verbose=1) \n",
    "logdir = os.path.join(\"model\", datetime.datetime.now().strftime(\"%Y%m%d-%H%M%S\")) \n",
    "tb1 = TensorBoard(log_dir=logdir)"
   ]
  },
  {
   "cell_type": "code",
   "execution_count": 53,
   "metadata": {
    "colab": {
     "base_uri": "https://localhost:8080/",
     "height": 145
    },
    "executionInfo": {
     "elapsed": 45341,
     "status": "ok",
     "timestamp": 1602671086684,
     "user": {
      "displayName": "Venkata Praneeth",
      "photoUrl": "https://lh3.googleusercontent.com/a-/AOh14Gh73fGtdIa9z0SiL3PC0HTluCYFT184KfwwzLY98Q=s64",
      "userId": "18102774549844806905"
     },
     "user_tz": -330
    },
    "id": "Bwp5HfJ_YSwa",
    "outputId": "99629044-28ee-4fbc-fa05-59aadcb193b4"
   },
   "outputs": [
    {
     "data": {
      "text/plain": [
       "array([[0, 0, 1, ..., 2, 2, 2],\n",
       "       [1, 1, 1, ..., 2, 2, 2],\n",
       "       [1, 1, 1, ..., 2, 2, 2],\n",
       "       ...,\n",
       "       [0, 0, 0, ..., 2, 2, 2],\n",
       "       [1, 0, 0, ..., 2, 2, 2],\n",
       "       [0, 0, 0, ..., 2, 2, 2]], dtype=int32)"
      ]
     },
     "execution_count": 53,
     "metadata": {
      "tags": []
     },
     "output_type": "execute_result"
    }
   ],
   "source": [
    "y_pad_tr"
   ]
  },
  {
   "cell_type": "code",
   "execution_count": 54,
   "metadata": {
    "colab": {
     "base_uri": "https://localhost:8080/",
     "height": 274
    },
    "executionInfo": {
     "elapsed": 870448,
     "status": "ok",
     "timestamp": 1602671911826,
     "user": {
      "displayName": "Venkata Praneeth",
      "photoUrl": "https://lh3.googleusercontent.com/a-/AOh14Gh73fGtdIa9z0SiL3PC0HTluCYFT184KfwwzLY98Q=s64",
      "userId": "18102774549844806905"
     },
     "user_tz": -330
    },
    "id": "YoqZQo2iXazH",
    "outputId": "45ff3330-ad6b-47b3-d2ef-0f1b39a42523"
   },
   "outputs": [
    {
     "name": "stdout",
     "output_type": "stream",
     "text": [
      "Epoch 1/3\n",
      "WARNING:tensorflow:Gradients do not exist for variables ['tf_roberta_model_1/roberta/pooler/dense/kernel:0', 'tf_roberta_model_1/roberta/pooler/dense/bias:0'] when minimizing the loss.\n",
      "WARNING:tensorflow:Gradients do not exist for variables ['tf_roberta_model_1/roberta/pooler/dense/kernel:0', 'tf_roberta_model_1/roberta/pooler/dense/bias:0'] when minimizing the loss.\n",
      "WARNING:tensorflow:Gradients do not exist for variables ['tf_roberta_model_1/roberta/pooler/dense/kernel:0', 'tf_roberta_model_1/roberta/pooler/dense/bias:0'] when minimizing the loss.\n",
      "WARNING:tensorflow:Gradients do not exist for variables ['tf_roberta_model_1/roberta/pooler/dense/kernel:0', 'tf_roberta_model_1/roberta/pooler/dense/bias:0'] when minimizing the loss.\n",
      "687/687 [==============================] - ETA: 0s - loss: 3.6499 - activation_4_loss: 1.5028 - activation_5_loss: 2.1471 - activation_4_accuracy: 0.5849 - activation_5_accuracy: 0.2666WARNING:tensorflow:Early stopping conditioned on metric `val_accuracy` which is not available. Available metrics are: loss,activation_4_loss,activation_5_loss,activation_4_accuracy,activation_5_accuracy,val_loss,val_activation_4_loss,val_activation_5_loss,val_activation_4_accuracy,val_activation_5_accuracy\n",
      "687/687 [==============================] - 272s 397ms/step - loss: 3.6499 - activation_4_loss: 1.5028 - activation_5_loss: 2.1471 - activation_4_accuracy: 0.5849 - activation_5_accuracy: 0.2666 - val_loss: 2.6702 - val_activation_4_loss: 1.1694 - val_activation_5_loss: 1.5008 - val_activation_4_accuracy: 0.6291 - val_activation_5_accuracy: 0.4693\n",
      "Epoch 2/3\n",
      "687/687 [==============================] - ETA: 0s - loss: 2.7359 - activation_4_loss: 1.2226 - activation_5_loss: 1.5133 - activation_4_accuracy: 0.6100 - activation_5_accuracy: 0.4673WARNING:tensorflow:Early stopping conditioned on metric `val_accuracy` which is not available. Available metrics are: loss,activation_4_loss,activation_5_loss,activation_4_accuracy,activation_5_accuracy,val_loss,val_activation_4_loss,val_activation_5_loss,val_activation_4_accuracy,val_activation_5_accuracy\n",
      "687/687 [==============================] - 269s 392ms/step - loss: 2.7359 - activation_4_loss: 1.2226 - activation_5_loss: 1.5133 - activation_4_accuracy: 0.6100 - activation_5_accuracy: 0.4673 - val_loss: 2.4503 - val_activation_4_loss: 1.1137 - val_activation_5_loss: 1.3366 - val_activation_4_accuracy: 0.6445 - val_activation_5_accuracy: 0.5330\n",
      "Epoch 3/3\n",
      "687/687 [==============================] - ETA: 0s - loss: 2.4476 - activation_4_loss: 1.1215 - activation_5_loss: 1.3261 - activation_4_accuracy: 0.6324 - activation_5_accuracy: 0.5287WARNING:tensorflow:Early stopping conditioned on metric `val_accuracy` which is not available. Available metrics are: loss,activation_4_loss,activation_5_loss,activation_4_accuracy,activation_5_accuracy,val_loss,val_activation_4_loss,val_activation_5_loss,val_activation_4_accuracy,val_activation_5_accuracy\n",
      "687/687 [==============================] - 269s 392ms/step - loss: 2.4476 - activation_4_loss: 1.1215 - activation_5_loss: 1.3261 - activation_4_accuracy: 0.6324 - activation_5_accuracy: 0.5287 - val_loss: 2.3263 - val_activation_4_loss: 1.0737 - val_activation_5_loss: 1.2526 - val_activation_4_accuracy: 0.6476 - val_activation_5_accuracy: 0.5712\n"
     ]
    }
   ],
   "source": [
    "hist = model.fit([input_ids_tr,attention_masks_tr,],[start_tr,end_tr],\n",
    "                validation_data = ([input_ids_ts, attention_masks_ts], [start_ts,end_ts]),\n",
    "                epochs=3, batch_size=32,verbose=1,callbacks=[es])"
   ]
  },
  {
   "cell_type": "code",
   "execution_count": 55,
   "metadata": {
    "executionInfo": {
     "elapsed": 870390,
     "status": "ok",
     "timestamp": 1602671911833,
     "user": {
      "displayName": "Venkata Praneeth",
      "photoUrl": "https://lh3.googleusercontent.com/a-/AOh14Gh73fGtdIa9z0SiL3PC0HTluCYFT184KfwwzLY98Q=s64",
      "userId": "18102774549844806905"
     },
     "user_tz": -330
    },
    "id": "EcNpR5oDLioV"
   },
   "outputs": [],
   "source": [
    "#hist = model.fit([input_ids_tr,attention_masks_tr,],y_pad_tr,\n",
    "#                validation_data = ([input_ids_ts, attention_masks_ts], y_pad_ts),\n",
    "#                epochs=3, batch_size=96,verbose=1,callbacks=[es])"
   ]
  },
  {
   "cell_type": "code",
   "execution_count": 56,
   "metadata": {
    "executionInfo": {
     "elapsed": 895699,
     "status": "ok",
     "timestamp": 1602671937168,
     "user": {
      "displayName": "Venkata Praneeth",
      "photoUrl": "https://lh3.googleusercontent.com/a-/AOh14Gh73fGtdIa9z0SiL3PC0HTluCYFT184KfwwzLY98Q=s64",
      "userId": "18102774549844806905"
     },
     "user_tz": -330
    },
    "id": "uuVMNLqCNNIP"
   },
   "outputs": [],
   "source": [
    "pred=model.predict([input_ids_ts,attention_masks_ts])"
   ]
  },
  {
   "cell_type": "code",
   "execution_count": 57,
   "metadata": {
    "colab": {
     "base_uri": "https://localhost:8080/",
     "height": 72
    },
    "executionInfo": {
     "elapsed": 895661,
     "status": "ok",
     "timestamp": 1602671937175,
     "user": {
      "displayName": "Venkata Praneeth",
      "photoUrl": "https://lh3.googleusercontent.com/a-/AOh14Gh73fGtdIa9z0SiL3PC0HTluCYFT184KfwwzLY98Q=s64",
      "userId": "18102774549844806905"
     },
     "user_tz": -330
    },
    "id": "laVV0CooNU0p",
    "outputId": "52d42757-eb5e-400a-ce15-e99293ea3a31"
   },
   "outputs": [
    {
     "name": "stdout",
     "output_type": "stream",
     "text": [
      "2\n",
      "(5497, 96)\n",
      "(5497, 96)\n"
     ]
    }
   ],
   "source": [
    "print(len(pred))\n",
    "start=pred[0]\n",
    "end=pred[1]\n",
    "print(start.shape)\n",
    "print(end.shape)"
   ]
  },
  {
   "cell_type": "code",
   "execution_count": 58,
   "metadata": {
    "colab": {
     "base_uri": "https://localhost:8080/",
     "height": 254
    },
    "executionInfo": {
     "elapsed": 895607,
     "status": "ok",
     "timestamp": 1602671937177,
     "user": {
      "displayName": "Venkata Praneeth",
      "photoUrl": "https://lh3.googleusercontent.com/a-/AOh14Gh73fGtdIa9z0SiL3PC0HTluCYFT184KfwwzLY98Q=s64",
      "userId": "18102774549844806905"
     },
     "user_tz": -330
    },
    "id": "HD4nLsjJNZd4",
    "outputId": "6380a109-cb32-45b2-a6c1-b6b0691c1e6c"
   },
   "outputs": [
    {
     "data": {
      "text/plain": [
       "array([[2.7682942e-01, 8.2828505e-03, 3.4968145e-02, ..., 4.8079433e-05,\n",
       "        4.8079433e-05, 4.8079433e-05],\n",
       "       [6.3088840e-01, 1.1532011e-01, 1.5499856e-01, ..., 1.0717412e-04,\n",
       "        1.0717412e-04, 1.0717412e-04],\n",
       "       [4.6023291e-01, 3.2008432e-02, 3.0167025e-02, ..., 9.6421711e-05,\n",
       "        9.6421711e-05, 9.6421711e-05],\n",
       "       ...,\n",
       "       [4.5046708e-01, 4.3067902e-01, 1.6175881e-03, ..., 1.7297207e-04,\n",
       "        1.7297207e-04, 1.7297207e-04],\n",
       "       [1.8874121e-01, 3.0025056e-02, 2.1915367e-02, ..., 1.6722572e-04,\n",
       "        1.6722572e-04, 1.6722572e-04],\n",
       "       [5.8179647e-02, 8.5069239e-03, 3.5893705e-03, ..., 2.8338784e-04,\n",
       "        2.8338784e-04, 2.8338784e-04]], dtype=float32)"
      ]
     },
     "execution_count": 58,
     "metadata": {
      "tags": []
     },
     "output_type": "execute_result"
    }
   ],
   "source": [
    "start"
   ]
  },
  {
   "cell_type": "code",
   "execution_count": 59,
   "metadata": {
    "colab": {
     "base_uri": "https://localhost:8080/",
     "height": 198
    },
    "executionInfo": {
     "elapsed": 895581,
     "status": "ok",
     "timestamp": 1602671937185,
     "user": {
      "displayName": "Venkata Praneeth",
      "photoUrl": "https://lh3.googleusercontent.com/a-/AOh14Gh73fGtdIa9z0SiL3PC0HTluCYFT184KfwwzLY98Q=s64",
      "userId": "18102774549844806905"
     },
     "user_tz": -330
    },
    "id": "4K6vcL5CNjvY",
    "outputId": "3f03c4d3-d74d-4f4e-83fa-713c299c873c"
   },
   "outputs": [
    {
     "data": {
      "text/html": [
       "<div>\n",
       "<style scoped>\n",
       "    .dataframe tbody tr th:only-of-type {\n",
       "        vertical-align: middle;\n",
       "    }\n",
       "\n",
       "    .dataframe tbody tr th {\n",
       "        vertical-align: top;\n",
       "    }\n",
       "\n",
       "    .dataframe thead th {\n",
       "        text-align: right;\n",
       "    }\n",
       "</style>\n",
       "<table border=\"1\" class=\"dataframe\">\n",
       "  <thead>\n",
       "    <tr style=\"text-align: right;\">\n",
       "      <th></th>\n",
       "      <th>textID</th>\n",
       "      <th>text</th>\n",
       "      <th>selected_text</th>\n",
       "      <th>sentiment</th>\n",
       "      <th>labels</th>\n",
       "    </tr>\n",
       "  </thead>\n",
       "  <tbody>\n",
       "    <tr>\n",
       "      <th>0</th>\n",
       "      <td>1e4bcc6393</td>\n",
       "      <td>come home, then. Not so boring here.</td>\n",
       "      <td>so boring here.</td>\n",
       "      <td>negative</td>\n",
       "      <td>[0.0, 0.0, 0.0, 0.0, 1.0, 1.0, 1.0]</td>\n",
       "    </tr>\n",
       "    <tr>\n",
       "      <th>1</th>\n",
       "      <td>c98b54f57f</td>\n",
       "      <td>X-Men:Wolverine was hot! I say go watch it</td>\n",
       "      <td>was hot!</td>\n",
       "      <td>positive</td>\n",
       "      <td>[0.0, 1.0, 1.0, 0.0, 0.0, 0.0, 0.0, 0.0]</td>\n",
       "    </tr>\n",
       "    <tr>\n",
       "      <th>2</th>\n",
       "      <td>3c66250da9</td>\n",
       "      <td>to the people i was txting... sorry phone is d...</td>\n",
       "      <td>to the people i was txting... sorry phone is d...</td>\n",
       "      <td>neutral</td>\n",
       "      <td>[1.0, 1.0, 1.0, 1.0, 1.0, 1.0, 1.0, 1.0, 1.0, ...</td>\n",
       "    </tr>\n",
       "    <tr>\n",
       "      <th>3</th>\n",
       "      <td>30e7601bce</td>\n",
       "      <td>i know!  i wish she would. I just wanna cuddle...</td>\n",
       "      <td>i wish</td>\n",
       "      <td>positive</td>\n",
       "      <td>[1.0, 0.0, 0.0, 1.0, 0.0, 0.0, 0.0, 0.0, 0.0, ...</td>\n",
       "    </tr>\n",
       "    <tr>\n",
       "      <th>4</th>\n",
       "      <td>95fe7c81b9</td>\n",
       "      <td>I was just watching some cartoons as I haven`t...</td>\n",
       "      <td>I was just watching some cartoons as I haven`t...</td>\n",
       "      <td>neutral</td>\n",
       "      <td>[1.0, 1.0, 1.0, 1.0, 1.0, 1.0, 1.0, 0.0, 1.0, ...</td>\n",
       "    </tr>\n",
       "  </tbody>\n",
       "</table>\n",
       "</div>"
      ],
      "text/plain": [
       "       textID  ...                                             labels\n",
       "0  1e4bcc6393  ...                [0.0, 0.0, 0.0, 0.0, 1.0, 1.0, 1.0]\n",
       "1  c98b54f57f  ...           [0.0, 1.0, 1.0, 0.0, 0.0, 0.0, 0.0, 0.0]\n",
       "2  3c66250da9  ...  [1.0, 1.0, 1.0, 1.0, 1.0, 1.0, 1.0, 1.0, 1.0, ...\n",
       "3  30e7601bce  ...  [1.0, 0.0, 0.0, 1.0, 0.0, 0.0, 0.0, 0.0, 0.0, ...\n",
       "4  95fe7c81b9  ...  [1.0, 1.0, 1.0, 1.0, 1.0, 1.0, 1.0, 0.0, 1.0, ...\n",
       "\n",
       "[5 rows x 5 columns]"
      ]
     },
     "execution_count": 59,
     "metadata": {
      "tags": []
     },
     "output_type": "execute_result"
    }
   ],
   "source": [
    "test_copy.head()"
   ]
  },
  {
   "cell_type": "code",
   "execution_count": 60,
   "metadata": {
    "colab": {
     "base_uri": "https://localhost:8080/",
     "height": 54
    },
    "executionInfo": {
     "elapsed": 895535,
     "status": "ok",
     "timestamp": 1602671937186,
     "user": {
      "displayName": "Venkata Praneeth",
      "photoUrl": "https://lh3.googleusercontent.com/a-/AOh14Gh73fGtdIa9z0SiL3PC0HTluCYFT184KfwwzLY98Q=s64",
      "userId": "18102774549844806905"
     },
     "user_tz": -330
    },
    "id": "clhOBn9sNh-E",
    "outputId": "9b24111b-bc0b-447e-bb79-d782d1cd4176"
   },
   "outputs": [
    {
     "name": "stdout",
     "output_type": "stream",
     "text": [
      "3\n",
      "6\n"
     ]
    }
   ],
   "source": [
    "print(np.argmax(start[0]))\n",
    "print(np.argmax(end[0]))"
   ]
  },
  {
   "cell_type": "code",
   "execution_count": 61,
   "metadata": {
    "colab": {
     "base_uri": "https://localhost:8080/",
     "height": 54
    },
    "executionInfo": {
     "elapsed": 895468,
     "status": "ok",
     "timestamp": 1602671937187,
     "user": {
      "displayName": "Venkata Praneeth",
      "photoUrl": "https://lh3.googleusercontent.com/a-/AOh14Gh73fGtdIa9z0SiL3PC0HTluCYFT184KfwwzLY98Q=s64",
      "userId": "18102774549844806905"
     },
     "user_tz": -330
    },
    "id": "sxLbVKxQNtzt",
    "outputId": "6a8c1bca-4b8a-465c-831d-a33e68aec347"
   },
   "outputs": [
    {
     "name": "stdout",
     "output_type": "stream",
     "text": [
      "4\n"
     ]
    },
    {
     "data": {
      "text/plain": [
       "6"
      ]
     },
     "execution_count": 61,
     "metadata": {
      "tags": []
     },
     "output_type": "execute_result"
    }
   ],
   "source": [
    "print(np.argmax(start_ts[0]))\n",
    "np.argmax(end_ts[0])"
   ]
  },
  {
   "cell_type": "code",
   "execution_count": 62,
   "metadata": {
    "colab": {
     "base_uri": "https://localhost:8080/",
     "height": 199
    },
    "executionInfo": {
     "elapsed": 895423,
     "status": "ok",
     "timestamp": 1602671937188,
     "user": {
      "displayName": "Venkata Praneeth",
      "photoUrl": "https://lh3.googleusercontent.com/a-/AOh14Gh73fGtdIa9z0SiL3PC0HTluCYFT184KfwwzLY98Q=s64",
      "userId": "18102774549844806905"
     },
     "user_tz": -330
    },
    "id": "XJw-Kg_DOGt9",
    "outputId": "9cad85cd-b404-421f-a285-b00717b311f0"
   },
   "outputs": [
    {
     "name": "stderr",
     "output_type": "stream",
     "text": [
      "/usr/local/lib/python3.6/dist-packages/ipykernel_launcher.py:4: SettingWithCopyWarning: \n",
      "A value is trying to be set on a copy of a slice from a DataFrame\n",
      "\n",
      "See the caveats in the documentation: https://pandas.pydata.org/pandas-docs/stable/user_guide/indexing.html#returning-a-view-versus-a-copy\n",
      "  after removing the cwd from sys.path.\n",
      "/usr/local/lib/python3.6/dist-packages/ipykernel_launcher.py:5: SettingWithCopyWarning: \n",
      "A value is trying to be set on a copy of a slice from a DataFrame\n",
      "\n",
      "See the caveats in the documentation: https://pandas.pydata.org/pandas-docs/stable/user_guide/indexing.html#returning-a-view-versus-a-copy\n",
      "  \"\"\"\n"
     ]
    }
   ],
   "source": [
    "test_copy['first']=np.nan\n",
    "test_copy['last']=np.nan\n",
    "for i in range(test_copy.shape[0]):\n",
    "  test_copy['first'][i]=np.argmax(start[i])\n",
    "  test_copy['last'][i]=np.argmax(end[i])"
   ]
  },
  {
   "cell_type": "code",
   "execution_count": 63,
   "metadata": {
    "colab": {
     "base_uri": "https://localhost:8080/",
     "height": 250
    },
    "executionInfo": {
     "elapsed": 895393,
     "status": "ok",
     "timestamp": 1602671937189,
     "user": {
      "displayName": "Venkata Praneeth",
      "photoUrl": "https://lh3.googleusercontent.com/a-/AOh14Gh73fGtdIa9z0SiL3PC0HTluCYFT184KfwwzLY98Q=s64",
      "userId": "18102774549844806905"
     },
     "user_tz": -330
    },
    "id": "bRFbOKmuONmv",
    "outputId": "22453c1c-8f30-44d6-db27-eb1ee18b3666"
   },
   "outputs": [
    {
     "data": {
      "text/html": [
       "<div>\n",
       "<style scoped>\n",
       "    .dataframe tbody tr th:only-of-type {\n",
       "        vertical-align: middle;\n",
       "    }\n",
       "\n",
       "    .dataframe tbody tr th {\n",
       "        vertical-align: top;\n",
       "    }\n",
       "\n",
       "    .dataframe thead th {\n",
       "        text-align: right;\n",
       "    }\n",
       "</style>\n",
       "<table border=\"1\" class=\"dataframe\">\n",
       "  <thead>\n",
       "    <tr style=\"text-align: right;\">\n",
       "      <th></th>\n",
       "      <th>textID</th>\n",
       "      <th>text</th>\n",
       "      <th>selected_text</th>\n",
       "      <th>sentiment</th>\n",
       "      <th>labels</th>\n",
       "      <th>first</th>\n",
       "      <th>last</th>\n",
       "    </tr>\n",
       "  </thead>\n",
       "  <tbody>\n",
       "    <tr>\n",
       "      <th>0</th>\n",
       "      <td>1e4bcc6393</td>\n",
       "      <td>come home, then. Not so boring here.</td>\n",
       "      <td>so boring here.</td>\n",
       "      <td>negative</td>\n",
       "      <td>[0.0, 0.0, 0.0, 0.0, 1.0, 1.0, 1.0]</td>\n",
       "      <td>3.0</td>\n",
       "      <td>6.0</td>\n",
       "    </tr>\n",
       "    <tr>\n",
       "      <th>1</th>\n",
       "      <td>c98b54f57f</td>\n",
       "      <td>X-Men:Wolverine was hot! I say go watch it</td>\n",
       "      <td>was hot!</td>\n",
       "      <td>positive</td>\n",
       "      <td>[0.0, 1.0, 1.0, 0.0, 0.0, 0.0, 0.0, 0.0]</td>\n",
       "      <td>0.0</td>\n",
       "      <td>6.0</td>\n",
       "    </tr>\n",
       "    <tr>\n",
       "      <th>2</th>\n",
       "      <td>3c66250da9</td>\n",
       "      <td>to the people i was txting... sorry phone is d...</td>\n",
       "      <td>to the people i was txting... sorry phone is d...</td>\n",
       "      <td>neutral</td>\n",
       "      <td>[1.0, 1.0, 1.0, 1.0, 1.0, 1.0, 1.0, 1.0, 1.0, ...</td>\n",
       "      <td>0.0</td>\n",
       "      <td>25.0</td>\n",
       "    </tr>\n",
       "    <tr>\n",
       "      <th>3</th>\n",
       "      <td>30e7601bce</td>\n",
       "      <td>i know!  i wish she would. I just wanna cuddle...</td>\n",
       "      <td>i wish</td>\n",
       "      <td>positive</td>\n",
       "      <td>[1.0, 0.0, 0.0, 1.0, 0.0, 0.0, 0.0, 0.0, 0.0, ...</td>\n",
       "      <td>0.0</td>\n",
       "      <td>19.0</td>\n",
       "    </tr>\n",
       "    <tr>\n",
       "      <th>4</th>\n",
       "      <td>95fe7c81b9</td>\n",
       "      <td>I was just watching some cartoons as I haven`t...</td>\n",
       "      <td>I was just watching some cartoons as I haven`t...</td>\n",
       "      <td>neutral</td>\n",
       "      <td>[1.0, 1.0, 1.0, 1.0, 1.0, 1.0, 1.0, 0.0, 1.0, ...</td>\n",
       "      <td>0.0</td>\n",
       "      <td>20.0</td>\n",
       "    </tr>\n",
       "  </tbody>\n",
       "</table>\n",
       "</div>"
      ],
      "text/plain": [
       "       textID                                               text  ... first  last\n",
       "0  1e4bcc6393               come home, then. Not so boring here.  ...   3.0   6.0\n",
       "1  c98b54f57f         X-Men:Wolverine was hot! I say go watch it  ...   0.0   6.0\n",
       "2  3c66250da9  to the people i was txting... sorry phone is d...  ...   0.0  25.0\n",
       "3  30e7601bce  i know!  i wish she would. I just wanna cuddle...  ...   0.0  19.0\n",
       "4  95fe7c81b9  I was just watching some cartoons as I haven`t...  ...   0.0  20.0\n",
       "\n",
       "[5 rows x 7 columns]"
      ]
     },
     "execution_count": 63,
     "metadata": {
      "tags": []
     },
     "output_type": "execute_result"
    }
   ],
   "source": [
    "test_copy.head()"
   ]
  },
  {
   "cell_type": "code",
   "execution_count": 64,
   "metadata": {
    "executionInfo": {
     "elapsed": 895366,
     "status": "ok",
     "timestamp": 1602671937191,
     "user": {
      "displayName": "Venkata Praneeth",
      "photoUrl": "https://lh3.googleusercontent.com/a-/AOh14Gh73fGtdIa9z0SiL3PC0HTluCYFT184KfwwzLY98Q=s64",
      "userId": "18102774549844806905"
     },
     "user_tz": -330
    },
    "id": "y3G7s89aOdmc"
   },
   "outputs": [],
   "source": [
    "def dec(df):\n",
    "  sent=df['text']\n",
    "  sentence=list(sent.split())\n",
    "  length=len(sentence)  \n",
    "  a=int(df['first'])  \n",
    "  b=int(df['last'])  \n",
    "  s=''  \n",
    "  if (a>b):\n",
    "    s+=df['text']\n",
    "  elif (b>=length):\n",
    "    b=min(b,length)\n",
    "    for i in range(a,b):\n",
    "      s+=str(sentence[i])+' '\n",
    "  else:\n",
    "    for i in range(a,b+1):\n",
    "      s+=str(sentence[i])+' '       \n",
    "  return s.strip() "
   ]
  },
  {
   "cell_type": "code",
   "execution_count": 65,
   "metadata": {
    "colab": {
     "base_uri": "https://localhost:8080/",
     "height": 125
    },
    "executionInfo": {
     "elapsed": 896379,
     "status": "ok",
     "timestamp": 1602671938228,
     "user": {
      "displayName": "Venkata Praneeth",
      "photoUrl": "https://lh3.googleusercontent.com/a-/AOh14Gh73fGtdIa9z0SiL3PC0HTluCYFT184KfwwzLY98Q=s64",
      "userId": "18102774549844806905"
     },
     "user_tz": -330
    },
    "id": "iXhZnxfyOmti",
    "outputId": "e32c350d-0b41-4030-b1e5-f5b0d81b49bd"
   },
   "outputs": [
    {
     "data": {
      "text/html": [
       "<div>\n",
       "<style scoped>\n",
       "    .dataframe tbody tr th:only-of-type {\n",
       "        vertical-align: middle;\n",
       "    }\n",
       "\n",
       "    .dataframe tbody tr th {\n",
       "        vertical-align: top;\n",
       "    }\n",
       "\n",
       "    .dataframe thead th {\n",
       "        text-align: right;\n",
       "    }\n",
       "</style>\n",
       "<table border=\"1\" class=\"dataframe\">\n",
       "  <thead>\n",
       "    <tr style=\"text-align: right;\">\n",
       "      <th></th>\n",
       "      <th>textID</th>\n",
       "      <th>text</th>\n",
       "      <th>selected_text</th>\n",
       "      <th>sentiment</th>\n",
       "      <th>labels</th>\n",
       "      <th>first</th>\n",
       "      <th>last</th>\n",
       "      <th>pred</th>\n",
       "    </tr>\n",
       "  </thead>\n",
       "  <tbody>\n",
       "    <tr>\n",
       "      <th>0</th>\n",
       "      <td>1e4bcc6393</td>\n",
       "      <td>come home, then. Not so boring here.</td>\n",
       "      <td>so boring here.</td>\n",
       "      <td>negative</td>\n",
       "      <td>[0.0, 0.0, 0.0, 0.0, 1.0, 1.0, 1.0]</td>\n",
       "      <td>3.0</td>\n",
       "      <td>6.0</td>\n",
       "      <td>Not so boring here.</td>\n",
       "    </tr>\n",
       "    <tr>\n",
       "      <th>1</th>\n",
       "      <td>c98b54f57f</td>\n",
       "      <td>X-Men:Wolverine was hot! I say go watch it</td>\n",
       "      <td>was hot!</td>\n",
       "      <td>positive</td>\n",
       "      <td>[0.0, 1.0, 1.0, 0.0, 0.0, 0.0, 0.0, 0.0]</td>\n",
       "      <td>0.0</td>\n",
       "      <td>6.0</td>\n",
       "      <td>X-Men:Wolverine was hot! I say go watch</td>\n",
       "    </tr>\n",
       "  </tbody>\n",
       "</table>\n",
       "</div>"
      ],
      "text/plain": [
       "       textID  ...                                     pred\n",
       "0  1e4bcc6393  ...                      Not so boring here.\n",
       "1  c98b54f57f  ...  X-Men:Wolverine was hot! I say go watch\n",
       "\n",
       "[2 rows x 8 columns]"
      ]
     },
     "execution_count": 65,
     "metadata": {
      "tags": []
     },
     "output_type": "execute_result"
    }
   ],
   "source": [
    "test_copy['pred']=test_copy.apply(dec,axis=1)\n",
    "test_copy.head(2)"
   ]
  },
  {
   "cell_type": "code",
   "execution_count": 66,
   "metadata": {
    "executionInfo": {
     "elapsed": 896337,
     "status": "ok",
     "timestamp": 1602671938229,
     "user": {
      "displayName": "Venkata Praneeth",
      "photoUrl": "https://lh3.googleusercontent.com/a-/AOh14Gh73fGtdIa9z0SiL3PC0HTluCYFT184KfwwzLY98Q=s64",
      "userId": "18102774549844806905"
     },
     "user_tz": -330
    },
    "id": "Ywgyz0niOrkw"
   },
   "outputs": [],
   "source": [
    "def jaccard1(df):      \n",
    "  str1=df['selected_text']      \n",
    "  str2=df['pred']          \n",
    "  a = set(str1.lower().split())       \n",
    "  b = set(str2.lower().split())      \n",
    "  c = a.intersection(b)      \n",
    "  try:    \n",
    "    return float(len(c)) / (len(a) + len(b) - len(c))  \n",
    "  except ZeroDivisionError:    \n",
    "    return 0"
   ]
  },
  {
   "cell_type": "code",
   "execution_count": 67,
   "metadata": {
    "colab": {
     "base_uri": "https://localhost:8080/",
     "height": 302
    },
    "executionInfo": {
     "elapsed": 896291,
     "status": "ok",
     "timestamp": 1602671938230,
     "user": {
      "displayName": "Venkata Praneeth",
      "photoUrl": "https://lh3.googleusercontent.com/a-/AOh14Gh73fGtdIa9z0SiL3PC0HTluCYFT184KfwwzLY98Q=s64",
      "userId": "18102774549844806905"
     },
     "user_tz": -330
    },
    "id": "RmIa4S8pO2rX",
    "outputId": "85587f5b-95da-4626-84e1-a4e66aab97ba"
   },
   "outputs": [
    {
     "data": {
      "text/html": [
       "<div>\n",
       "<style scoped>\n",
       "    .dataframe tbody tr th:only-of-type {\n",
       "        vertical-align: middle;\n",
       "    }\n",
       "\n",
       "    .dataframe tbody tr th {\n",
       "        vertical-align: top;\n",
       "    }\n",
       "\n",
       "    .dataframe thead th {\n",
       "        text-align: right;\n",
       "    }\n",
       "</style>\n",
       "<table border=\"1\" class=\"dataframe\">\n",
       "  <thead>\n",
       "    <tr style=\"text-align: right;\">\n",
       "      <th></th>\n",
       "      <th>textID</th>\n",
       "      <th>text</th>\n",
       "      <th>selected_text</th>\n",
       "      <th>sentiment</th>\n",
       "      <th>labels</th>\n",
       "      <th>first</th>\n",
       "      <th>last</th>\n",
       "      <th>pred</th>\n",
       "      <th>jaccard</th>\n",
       "    </tr>\n",
       "  </thead>\n",
       "  <tbody>\n",
       "    <tr>\n",
       "      <th>0</th>\n",
       "      <td>1e4bcc6393</td>\n",
       "      <td>come home, then. Not so boring here.</td>\n",
       "      <td>so boring here.</td>\n",
       "      <td>negative</td>\n",
       "      <td>[0.0, 0.0, 0.0, 0.0, 1.0, 1.0, 1.0]</td>\n",
       "      <td>3.0</td>\n",
       "      <td>6.0</td>\n",
       "      <td>Not so boring here.</td>\n",
       "      <td>0.750000</td>\n",
       "    </tr>\n",
       "    <tr>\n",
       "      <th>1</th>\n",
       "      <td>c98b54f57f</td>\n",
       "      <td>X-Men:Wolverine was hot! I say go watch it</td>\n",
       "      <td>was hot!</td>\n",
       "      <td>positive</td>\n",
       "      <td>[0.0, 1.0, 1.0, 0.0, 0.0, 0.0, 0.0, 0.0]</td>\n",
       "      <td>0.0</td>\n",
       "      <td>6.0</td>\n",
       "      <td>X-Men:Wolverine was hot! I say go watch</td>\n",
       "      <td>0.285714</td>\n",
       "    </tr>\n",
       "    <tr>\n",
       "      <th>2</th>\n",
       "      <td>3c66250da9</td>\n",
       "      <td>to the people i was txting... sorry phone is d...</td>\n",
       "      <td>to the people i was txting... sorry phone is d...</td>\n",
       "      <td>neutral</td>\n",
       "      <td>[1.0, 1.0, 1.0, 1.0, 1.0, 1.0, 1.0, 1.0, 1.0, ...</td>\n",
       "      <td>0.0</td>\n",
       "      <td>25.0</td>\n",
       "      <td>to the people i was txting... sorry phone is d...</td>\n",
       "      <td>1.000000</td>\n",
       "    </tr>\n",
       "    <tr>\n",
       "      <th>3</th>\n",
       "      <td>30e7601bce</td>\n",
       "      <td>i know!  i wish she would. I just wanna cuddle...</td>\n",
       "      <td>i wish</td>\n",
       "      <td>positive</td>\n",
       "      <td>[1.0, 0.0, 0.0, 1.0, 0.0, 0.0, 0.0, 0.0, 0.0, ...</td>\n",
       "      <td>0.0</td>\n",
       "      <td>19.0</td>\n",
       "      <td>i know! i wish she would. I just wanna cuddle ...</td>\n",
       "      <td>0.117647</td>\n",
       "    </tr>\n",
       "    <tr>\n",
       "      <th>4</th>\n",
       "      <td>95fe7c81b9</td>\n",
       "      <td>I was just watching some cartoons as I haven`t...</td>\n",
       "      <td>I was just watching some cartoons as I haven`t...</td>\n",
       "      <td>neutral</td>\n",
       "      <td>[1.0, 1.0, 1.0, 1.0, 1.0, 1.0, 1.0, 0.0, 1.0, ...</td>\n",
       "      <td>0.0</td>\n",
       "      <td>20.0</td>\n",
       "      <td>I was just watching some cartoons as I haven`t...</td>\n",
       "      <td>1.000000</td>\n",
       "    </tr>\n",
       "  </tbody>\n",
       "</table>\n",
       "</div>"
      ],
      "text/plain": [
       "       textID  ...   jaccard\n",
       "0  1e4bcc6393  ...  0.750000\n",
       "1  c98b54f57f  ...  0.285714\n",
       "2  3c66250da9  ...  1.000000\n",
       "3  30e7601bce  ...  0.117647\n",
       "4  95fe7c81b9  ...  1.000000\n",
       "\n",
       "[5 rows x 9 columns]"
      ]
     },
     "execution_count": 67,
     "metadata": {
      "tags": []
     },
     "output_type": "execute_result"
    }
   ],
   "source": [
    "test_copy['jaccard']=test_copy.apply(jaccard1,axis=1) \n",
    "test_copy.head()"
   ]
  },
  {
   "cell_type": "code",
   "execution_count": 68,
   "metadata": {
    "colab": {
     "base_uri": "https://localhost:8080/",
     "height": 555
    },
    "executionInfo": {
     "elapsed": 896252,
     "status": "ok",
     "timestamp": 1602671938230,
     "user": {
      "displayName": "Venkata Praneeth",
      "photoUrl": "https://lh3.googleusercontent.com/a-/AOh14Gh73fGtdIa9z0SiL3PC0HTluCYFT184KfwwzLY98Q=s64",
      "userId": "18102774549844806905"
     },
     "user_tz": -330
    },
    "id": "tVbPFbfJRHHG",
    "outputId": "1a1a7b9a-44da-4064-ded1-176793bab6dd"
   },
   "outputs": [
    {
     "data": {
      "text/html": [
       "<div>\n",
       "<style scoped>\n",
       "    .dataframe tbody tr th:only-of-type {\n",
       "        vertical-align: middle;\n",
       "    }\n",
       "\n",
       "    .dataframe tbody tr th {\n",
       "        vertical-align: top;\n",
       "    }\n",
       "\n",
       "    .dataframe thead th {\n",
       "        text-align: right;\n",
       "    }\n",
       "</style>\n",
       "<table border=\"1\" class=\"dataframe\">\n",
       "  <thead>\n",
       "    <tr style=\"text-align: right;\">\n",
       "      <th></th>\n",
       "      <th>textID</th>\n",
       "      <th>text</th>\n",
       "      <th>selected_text</th>\n",
       "      <th>sentiment</th>\n",
       "      <th>labels</th>\n",
       "      <th>first</th>\n",
       "      <th>last</th>\n",
       "      <th>pred</th>\n",
       "      <th>jaccard</th>\n",
       "    </tr>\n",
       "  </thead>\n",
       "  <tbody>\n",
       "    <tr>\n",
       "      <th>5487</th>\n",
       "      <td>ab56747ae1</td>\n",
       "      <td>I have to pee.</td>\n",
       "      <td>I have to pee.</td>\n",
       "      <td>neutral</td>\n",
       "      <td>[1.0, 1.0, 1.0, 1.0]</td>\n",
       "      <td>0.0</td>\n",
       "      <td>3.0</td>\n",
       "      <td>I have to pee.</td>\n",
       "      <td>1.000000</td>\n",
       "    </tr>\n",
       "    <tr>\n",
       "      <th>5488</th>\n",
       "      <td>84eea3d90e</td>\n",
       "      <td>Sleepy time! Happy Mothers` Day to current and...</td>\n",
       "      <td>Happy Mothers` Day</td>\n",
       "      <td>positive</td>\n",
       "      <td>[0.0, 0.0, 1.0, 1.0, 1.0, 0.0, 0.0, 0.0, 0.0, ...</td>\n",
       "      <td>2.0</td>\n",
       "      <td>2.0</td>\n",
       "      <td>Happy</td>\n",
       "      <td>0.333333</td>\n",
       "    </tr>\n",
       "    <tr>\n",
       "      <th>5489</th>\n",
       "      <td>b595c6c4f4</td>\n",
       "      <td>too many Germï¿½n rodrï¿½guez`s results. Which...</td>\n",
       "      <td>too many Germï¿½n rodrï¿½guez`s results. Which...</td>\n",
       "      <td>neutral</td>\n",
       "      <td>[1.0, 1.0, 1.0, 1.0, 1.0, 1.0, 1.0, 1.0, 1.0, ...</td>\n",
       "      <td>0.0</td>\n",
       "      <td>21.0</td>\n",
       "      <td>too many Germï¿½n rodrï¿½guez`s results. Which...</td>\n",
       "      <td>1.000000</td>\n",
       "    </tr>\n",
       "    <tr>\n",
       "      <th>5490</th>\n",
       "      <td>d3994c8a1b</td>\n",
       "      <td>Well let`s be blessed together then too! Yes, ...</td>\n",
       "      <td>blessed</td>\n",
       "      <td>positive</td>\n",
       "      <td>[0.0, 0.0, 0.0, 1.0, 0.0, 0.0, 0.0, 0.0, 0.0, ...</td>\n",
       "      <td>0.0</td>\n",
       "      <td>22.0</td>\n",
       "      <td>Well let`s be blessed together then too! Yes, ...</td>\n",
       "      <td>0.047619</td>\n",
       "    </tr>\n",
       "    <tr>\n",
       "      <th>5491</th>\n",
       "      <td>1375e54e9d</td>\n",
       "      <td>Finally made it through Dead Space, that only ...</td>\n",
       "      <td>Finally made it through Dead Space, that only ...</td>\n",
       "      <td>neutral</td>\n",
       "      <td>[1.0, 1.0, 1.0, 1.0, 1.0, 1.0, 1.0, 1.0, 1.0, ...</td>\n",
       "      <td>0.0</td>\n",
       "      <td>11.0</td>\n",
       "      <td>Finally made it through Dead Space, that only ...</td>\n",
       "      <td>1.000000</td>\n",
       "    </tr>\n",
       "    <tr>\n",
       "      <th>5492</th>\n",
       "      <td>ce946643d5</td>\n",
       "      <td>i JUST **** cleaned the whole kitchen....and t...</td>\n",
       "      <td>**** comes home &amp; is going to make a mess of it..</td>\n",
       "      <td>negative</td>\n",
       "      <td>[0.0, 0.0, 1.0, 0.0, 0.0, 0.0, 0.0, 0.0, 0.0, ...</td>\n",
       "      <td>0.0</td>\n",
       "      <td>25.0</td>\n",
       "      <td>i JUST **** cleaned the whole kitchen....and t...</td>\n",
       "      <td>0.458333</td>\n",
       "    </tr>\n",
       "    <tr>\n",
       "      <th>5493</th>\n",
       "      <td>7fc99dd05a</td>\n",
       "      <td>White House?  This thing`s a lifesaver: http:/...</td>\n",
       "      <td>lifesaver:</td>\n",
       "      <td>positive</td>\n",
       "      <td>[0.0, 0.0, 0.0, 0.0, 0.0, 1.0, 0.0]</td>\n",
       "      <td>5.0</td>\n",
       "      <td>5.0</td>\n",
       "      <td>lifesaver:</td>\n",
       "      <td>1.000000</td>\n",
       "    </tr>\n",
       "    <tr>\n",
       "      <th>5494</th>\n",
       "      <td>3571155c9f</td>\n",
       "      <td>I failed my maths exam today. fxxxmylife</td>\n",
       "      <td>failed</td>\n",
       "      <td>negative</td>\n",
       "      <td>[0.0, 1.0, 0.0, 0.0, 0.0, 0.0, 0.0]</td>\n",
       "      <td>0.0</td>\n",
       "      <td>1.0</td>\n",
       "      <td>I failed</td>\n",
       "      <td>0.500000</td>\n",
       "    </tr>\n",
       "    <tr>\n",
       "      <th>5495</th>\n",
       "      <td>09eecf9508</td>\n",
       "      <td>Hmm... I should go make a time machine to go f...</td>\n",
       "      <td>Hmm... I should go make a time machine to go f...</td>\n",
       "      <td>neutral</td>\n",
       "      <td>[1.0, 1.0, 1.0, 1.0, 1.0, 1.0, 1.0, 1.0, 1.0, ...</td>\n",
       "      <td>15.0</td>\n",
       "      <td>15.0</td>\n",
       "      <td>genius..</td>\n",
       "      <td>0.047619</td>\n",
       "    </tr>\n",
       "    <tr>\n",
       "      <th>5496</th>\n",
       "      <td>67d8083360</td>\n",
       "      <td>#bigfanfriday 2day, &amp; i go &amp; friggin loose 1, ...</td>\n",
       "      <td>life sucks!!</td>\n",
       "      <td>negative</td>\n",
       "      <td>[0.0, 0.0, 0.0, 0.0, 0.0, 0.0, 0.0, 0.0, 0.0, ...</td>\n",
       "      <td>10.0</td>\n",
       "      <td>10.0</td>\n",
       "      <td>sucks!!</td>\n",
       "      <td>0.500000</td>\n",
       "    </tr>\n",
       "  </tbody>\n",
       "</table>\n",
       "</div>"
      ],
      "text/plain": [
       "          textID  ...   jaccard\n",
       "5487  ab56747ae1  ...  1.000000\n",
       "5488  84eea3d90e  ...  0.333333\n",
       "5489  b595c6c4f4  ...  1.000000\n",
       "5490  d3994c8a1b  ...  0.047619\n",
       "5491  1375e54e9d  ...  1.000000\n",
       "5492  ce946643d5  ...  0.458333\n",
       "5493  7fc99dd05a  ...  1.000000\n",
       "5494  3571155c9f  ...  0.500000\n",
       "5495  09eecf9508  ...  0.047619\n",
       "5496  67d8083360  ...  0.500000\n",
       "\n",
       "[10 rows x 9 columns]"
      ]
     },
     "execution_count": 68,
     "metadata": {
      "tags": []
     },
     "output_type": "execute_result"
    }
   ],
   "source": [
    "test_copy.tail(10)"
   ]
  },
  {
   "cell_type": "code",
   "execution_count": 69,
   "metadata": {
    "colab": {
     "base_uri": "https://localhost:8080/",
     "height": 35
    },
    "executionInfo": {
     "elapsed": 896220,
     "status": "ok",
     "timestamp": 1602671938231,
     "user": {
      "displayName": "Venkata Praneeth",
      "photoUrl": "https://lh3.googleusercontent.com/a-/AOh14Gh73fGtdIa9z0SiL3PC0HTluCYFT184KfwwzLY98Q=s64",
      "userId": "18102774549844806905"
     },
     "user_tz": -330
    },
    "id": "yfToVbEeO8-F",
    "outputId": "21da3385-e3cc-435d-bd2b-f32d6f3abda5"
   },
   "outputs": [
    {
     "data": {
      "text/plain": [
       "0.6247334722381158"
      ]
     },
     "execution_count": 69,
     "metadata": {
      "tags": []
     },
     "output_type": "execute_result"
    }
   ],
   "source": [
    "test_copy['jaccard'].mean()"
   ]
  },
  {
   "cell_type": "code",
   "execution_count": 70,
   "metadata": {
    "colab": {
     "base_uri": "https://localhost:8080/",
     "height": 35
    },
    "executionInfo": {
     "elapsed": 896191,
     "status": "ok",
     "timestamp": 1602671938232,
     "user": {
      "displayName": "Venkata Praneeth",
      "photoUrl": "https://lh3.googleusercontent.com/a-/AOh14Gh73fGtdIa9z0SiL3PC0HTluCYFT184KfwwzLY98Q=s64",
      "userId": "18102774549844806905"
     },
     "user_tz": -330
    },
    "id": "3fyVmajcPCSX",
    "outputId": "bb8fb8a5-13cf-4bfb-b0a9-c41f46f9e590"
   },
   "outputs": [
    {
     "data": {
      "text/plain": [
       "0.44634082061541835"
      ]
     },
     "execution_count": 70,
     "metadata": {
      "tags": []
     },
     "output_type": "execute_result"
    }
   ],
   "source": [
    "test_copy[test_copy['sentiment']=='positive']['jaccard'].mean()"
   ]
  },
  {
   "cell_type": "code",
   "execution_count": 71,
   "metadata": {
    "colab": {
     "base_uri": "https://localhost:8080/",
     "height": 35
    },
    "executionInfo": {
     "elapsed": 896156,
     "status": "ok",
     "timestamp": 1602671938233,
     "user": {
      "displayName": "Venkata Praneeth",
      "photoUrl": "https://lh3.googleusercontent.com/a-/AOh14Gh73fGtdIa9z0SiL3PC0HTluCYFT184KfwwzLY98Q=s64",
      "userId": "18102774549844806905"
     },
     "user_tz": -330
    },
    "id": "OZgAcHMfPJE6",
    "outputId": "3d2a8cfa-19ff-4c91-c687-9f97e907a8a1"
   },
   "outputs": [
    {
     "data": {
      "text/plain": [
       "0.4508432813948525"
      ]
     },
     "execution_count": 71,
     "metadata": {
      "tags": []
     },
     "output_type": "execute_result"
    }
   ],
   "source": [
    "test_copy[test_copy['sentiment']=='negative']['jaccard'].mean()"
   ]
  },
  {
   "cell_type": "code",
   "execution_count": 72,
   "metadata": {
    "colab": {
     "base_uri": "https://localhost:8080/",
     "height": 35
    },
    "executionInfo": {
     "elapsed": 896125,
     "status": "ok",
     "timestamp": 1602671938234,
     "user": {
      "displayName": "Venkata Praneeth",
      "photoUrl": "https://lh3.googleusercontent.com/a-/AOh14Gh73fGtdIa9z0SiL3PC0HTluCYFT184KfwwzLY98Q=s64",
      "userId": "18102774549844806905"
     },
     "user_tz": -330
    },
    "id": "Qs41bgXVOz3P",
    "outputId": "990f9d99-e08b-4315-ea9b-e213e8bee0ab"
   },
   "outputs": [
    {
     "data": {
      "text/plain": [
       "0.8841189577544352"
      ]
     },
     "execution_count": 72,
     "metadata": {
      "tags": []
     },
     "output_type": "execute_result"
    }
   ],
   "source": [
    "test_copy[test_copy['sentiment']=='neutral']['jaccard'].mean()"
   ]
  }
 ],
 "metadata": {
  "accelerator": "GPU",
  "colab": {
   "authorship_tag": "ABX9TyPB2UESPtjU4YBAaibccc1W",
   "collapsed_sections": [],
   "name": "try_bert2.ipynb",
   "provenance": []
  },
  "kernelspec": {
   "display_name": "Python 3",
   "language": "python",
   "name": "python3"
  },
  "language_info": {
   "codemirror_mode": {
    "name": "ipython",
    "version": 3
   },
   "file_extension": ".py",
   "mimetype": "text/x-python",
   "name": "python",
   "nbconvert_exporter": "python",
   "pygments_lexer": "ipython3",
   "version": "3.8.3"
  },
  "widgets": {
   "application/vnd.jupyter.widget-state+json": {
    "05cfb38376f94761ac7818212739340f": {
     "model_module": "@jupyter-widgets/controls",
     "model_name": "DescriptionStyleModel",
     "state": {
      "_model_module": "@jupyter-widgets/controls",
      "_model_module_version": "1.5.0",
      "_model_name": "DescriptionStyleModel",
      "_view_count": null,
      "_view_module": "@jupyter-widgets/base",
      "_view_module_version": "1.2.0",
      "_view_name": "StyleView",
      "description_width": ""
     }
    },
    "19db6933f0e24074a16e66d7cdb9d971": {
     "model_module": "@jupyter-widgets/base",
     "model_name": "LayoutModel",
     "state": {
      "_model_module": "@jupyter-widgets/base",
      "_model_module_version": "1.2.0",
      "_model_name": "LayoutModel",
      "_view_count": null,
      "_view_module": "@jupyter-widgets/base",
      "_view_module_version": "1.2.0",
      "_view_name": "LayoutView",
      "align_content": null,
      "align_items": null,
      "align_self": null,
      "border": null,
      "bottom": null,
      "display": null,
      "flex": null,
      "flex_flow": null,
      "grid_area": null,
      "grid_auto_columns": null,
      "grid_auto_flow": null,
      "grid_auto_rows": null,
      "grid_column": null,
      "grid_gap": null,
      "grid_row": null,
      "grid_template_areas": null,
      "grid_template_columns": null,
      "grid_template_rows": null,
      "height": null,
      "justify_content": null,
      "justify_items": null,
      "left": null,
      "margin": null,
      "max_height": null,
      "max_width": null,
      "min_height": null,
      "min_width": null,
      "object_fit": null,
      "object_position": null,
      "order": null,
      "overflow": null,
      "overflow_x": null,
      "overflow_y": null,
      "padding": null,
      "right": null,
      "top": null,
      "visibility": null,
      "width": null
     }
    },
    "1ca995bca8d7493c93fbf06b3ea89ada": {
     "model_module": "@jupyter-widgets/controls",
     "model_name": "DescriptionStyleModel",
     "state": {
      "_model_module": "@jupyter-widgets/controls",
      "_model_module_version": "1.5.0",
      "_model_name": "DescriptionStyleModel",
      "_view_count": null,
      "_view_module": "@jupyter-widgets/base",
      "_view_module_version": "1.2.0",
      "_view_name": "StyleView",
      "description_width": ""
     }
    },
    "23494346047842ddae4178d4d29a4b9d": {
     "model_module": "@jupyter-widgets/base",
     "model_name": "LayoutModel",
     "state": {
      "_model_module": "@jupyter-widgets/base",
      "_model_module_version": "1.2.0",
      "_model_name": "LayoutModel",
      "_view_count": null,
      "_view_module": "@jupyter-widgets/base",
      "_view_module_version": "1.2.0",
      "_view_name": "LayoutView",
      "align_content": null,
      "align_items": null,
      "align_self": null,
      "border": null,
      "bottom": null,
      "display": null,
      "flex": null,
      "flex_flow": null,
      "grid_area": null,
      "grid_auto_columns": null,
      "grid_auto_flow": null,
      "grid_auto_rows": null,
      "grid_column": null,
      "grid_gap": null,
      "grid_row": null,
      "grid_template_areas": null,
      "grid_template_columns": null,
      "grid_template_rows": null,
      "height": null,
      "justify_content": null,
      "justify_items": null,
      "left": null,
      "margin": null,
      "max_height": null,
      "max_width": null,
      "min_height": null,
      "min_width": null,
      "object_fit": null,
      "object_position": null,
      "order": null,
      "overflow": null,
      "overflow_x": null,
      "overflow_y": null,
      "padding": null,
      "right": null,
      "top": null,
      "visibility": null,
      "width": null
     }
    },
    "3137c18b33d04412bbe0609c66a8644f": {
     "model_module": "@jupyter-widgets/base",
     "model_name": "LayoutModel",
     "state": {
      "_model_module": "@jupyter-widgets/base",
      "_model_module_version": "1.2.0",
      "_model_name": "LayoutModel",
      "_view_count": null,
      "_view_module": "@jupyter-widgets/base",
      "_view_module_version": "1.2.0",
      "_view_name": "LayoutView",
      "align_content": null,
      "align_items": null,
      "align_self": null,
      "border": null,
      "bottom": null,
      "display": null,
      "flex": null,
      "flex_flow": null,
      "grid_area": null,
      "grid_auto_columns": null,
      "grid_auto_flow": null,
      "grid_auto_rows": null,
      "grid_column": null,
      "grid_gap": null,
      "grid_row": null,
      "grid_template_areas": null,
      "grid_template_columns": null,
      "grid_template_rows": null,
      "height": null,
      "justify_content": null,
      "justify_items": null,
      "left": null,
      "margin": null,
      "max_height": null,
      "max_width": null,
      "min_height": null,
      "min_width": null,
      "object_fit": null,
      "object_position": null,
      "order": null,
      "overflow": null,
      "overflow_x": null,
      "overflow_y": null,
      "padding": null,
      "right": null,
      "top": null,
      "visibility": null,
      "width": null
     }
    },
    "3200421bdda2410fa93c751ee5428e40": {
     "model_module": "@jupyter-widgets/base",
     "model_name": "LayoutModel",
     "state": {
      "_model_module": "@jupyter-widgets/base",
      "_model_module_version": "1.2.0",
      "_model_name": "LayoutModel",
      "_view_count": null,
      "_view_module": "@jupyter-widgets/base",
      "_view_module_version": "1.2.0",
      "_view_name": "LayoutView",
      "align_content": null,
      "align_items": null,
      "align_self": null,
      "border": null,
      "bottom": null,
      "display": null,
      "flex": null,
      "flex_flow": null,
      "grid_area": null,
      "grid_auto_columns": null,
      "grid_auto_flow": null,
      "grid_auto_rows": null,
      "grid_column": null,
      "grid_gap": null,
      "grid_row": null,
      "grid_template_areas": null,
      "grid_template_columns": null,
      "grid_template_rows": null,
      "height": null,
      "justify_content": null,
      "justify_items": null,
      "left": null,
      "margin": null,
      "max_height": null,
      "max_width": null,
      "min_height": null,
      "min_width": null,
      "object_fit": null,
      "object_position": null,
      "order": null,
      "overflow": null,
      "overflow_x": null,
      "overflow_y": null,
      "padding": null,
      "right": null,
      "top": null,
      "visibility": null,
      "width": null
     }
    },
    "371756c685234d2287fe1fc0140d07d6": {
     "model_module": "@jupyter-widgets/base",
     "model_name": "LayoutModel",
     "state": {
      "_model_module": "@jupyter-widgets/base",
      "_model_module_version": "1.2.0",
      "_model_name": "LayoutModel",
      "_view_count": null,
      "_view_module": "@jupyter-widgets/base",
      "_view_module_version": "1.2.0",
      "_view_name": "LayoutView",
      "align_content": null,
      "align_items": null,
      "align_self": null,
      "border": null,
      "bottom": null,
      "display": null,
      "flex": null,
      "flex_flow": null,
      "grid_area": null,
      "grid_auto_columns": null,
      "grid_auto_flow": null,
      "grid_auto_rows": null,
      "grid_column": null,
      "grid_gap": null,
      "grid_row": null,
      "grid_template_areas": null,
      "grid_template_columns": null,
      "grid_template_rows": null,
      "height": null,
      "justify_content": null,
      "justify_items": null,
      "left": null,
      "margin": null,
      "max_height": null,
      "max_width": null,
      "min_height": null,
      "min_width": null,
      "object_fit": null,
      "object_position": null,
      "order": null,
      "overflow": null,
      "overflow_x": null,
      "overflow_y": null,
      "padding": null,
      "right": null,
      "top": null,
      "visibility": null,
      "width": null
     }
    },
    "373d9fbabb9a4631a284420a66989b57": {
     "model_module": "@jupyter-widgets/base",
     "model_name": "LayoutModel",
     "state": {
      "_model_module": "@jupyter-widgets/base",
      "_model_module_version": "1.2.0",
      "_model_name": "LayoutModel",
      "_view_count": null,
      "_view_module": "@jupyter-widgets/base",
      "_view_module_version": "1.2.0",
      "_view_name": "LayoutView",
      "align_content": null,
      "align_items": null,
      "align_self": null,
      "border": null,
      "bottom": null,
      "display": null,
      "flex": null,
      "flex_flow": null,
      "grid_area": null,
      "grid_auto_columns": null,
      "grid_auto_flow": null,
      "grid_auto_rows": null,
      "grid_column": null,
      "grid_gap": null,
      "grid_row": null,
      "grid_template_areas": null,
      "grid_template_columns": null,
      "grid_template_rows": null,
      "height": null,
      "justify_content": null,
      "justify_items": null,
      "left": null,
      "margin": null,
      "max_height": null,
      "max_width": null,
      "min_height": null,
      "min_width": null,
      "object_fit": null,
      "object_position": null,
      "order": null,
      "overflow": null,
      "overflow_x": null,
      "overflow_y": null,
      "padding": null,
      "right": null,
      "top": null,
      "visibility": null,
      "width": null
     }
    },
    "5bd8e568046e45b598c6ff53d2a7b48e": {
     "model_module": "@jupyter-widgets/base",
     "model_name": "LayoutModel",
     "state": {
      "_model_module": "@jupyter-widgets/base",
      "_model_module_version": "1.2.0",
      "_model_name": "LayoutModel",
      "_view_count": null,
      "_view_module": "@jupyter-widgets/base",
      "_view_module_version": "1.2.0",
      "_view_name": "LayoutView",
      "align_content": null,
      "align_items": null,
      "align_self": null,
      "border": null,
      "bottom": null,
      "display": null,
      "flex": null,
      "flex_flow": null,
      "grid_area": null,
      "grid_auto_columns": null,
      "grid_auto_flow": null,
      "grid_auto_rows": null,
      "grid_column": null,
      "grid_gap": null,
      "grid_row": null,
      "grid_template_areas": null,
      "grid_template_columns": null,
      "grid_template_rows": null,
      "height": null,
      "justify_content": null,
      "justify_items": null,
      "left": null,
      "margin": null,
      "max_height": null,
      "max_width": null,
      "min_height": null,
      "min_width": null,
      "object_fit": null,
      "object_position": null,
      "order": null,
      "overflow": null,
      "overflow_x": null,
      "overflow_y": null,
      "padding": null,
      "right": null,
      "top": null,
      "visibility": null,
      "width": null
     }
    },
    "60900b29c1184e63a5ba48c4afa2d248": {
     "model_module": "@jupyter-widgets/controls",
     "model_name": "DescriptionStyleModel",
     "state": {
      "_model_module": "@jupyter-widgets/controls",
      "_model_module_version": "1.5.0",
      "_model_name": "DescriptionStyleModel",
      "_view_count": null,
      "_view_module": "@jupyter-widgets/base",
      "_view_module_version": "1.2.0",
      "_view_name": "StyleView",
      "description_width": ""
     }
    },
    "63b9db63d4a141b48821f53732743219": {
     "model_module": "@jupyter-widgets/base",
     "model_name": "LayoutModel",
     "state": {
      "_model_module": "@jupyter-widgets/base",
      "_model_module_version": "1.2.0",
      "_model_name": "LayoutModel",
      "_view_count": null,
      "_view_module": "@jupyter-widgets/base",
      "_view_module_version": "1.2.0",
      "_view_name": "LayoutView",
      "align_content": null,
      "align_items": null,
      "align_self": null,
      "border": null,
      "bottom": null,
      "display": null,
      "flex": null,
      "flex_flow": null,
      "grid_area": null,
      "grid_auto_columns": null,
      "grid_auto_flow": null,
      "grid_auto_rows": null,
      "grid_column": null,
      "grid_gap": null,
      "grid_row": null,
      "grid_template_areas": null,
      "grid_template_columns": null,
      "grid_template_rows": null,
      "height": null,
      "justify_content": null,
      "justify_items": null,
      "left": null,
      "margin": null,
      "max_height": null,
      "max_width": null,
      "min_height": null,
      "min_width": null,
      "object_fit": null,
      "object_position": null,
      "order": null,
      "overflow": null,
      "overflow_x": null,
      "overflow_y": null,
      "padding": null,
      "right": null,
      "top": null,
      "visibility": null,
      "width": null
     }
    },
    "6fd1e9c169ee428099bf9d761c00dfbc": {
     "model_module": "@jupyter-widgets/controls",
     "model_name": "ProgressStyleModel",
     "state": {
      "_model_module": "@jupyter-widgets/controls",
      "_model_module_version": "1.5.0",
      "_model_name": "ProgressStyleModel",
      "_view_count": null,
      "_view_module": "@jupyter-widgets/base",
      "_view_module_version": "1.2.0",
      "_view_name": "StyleView",
      "bar_color": null,
      "description_width": "initial"
     }
    },
    "7d9de46ac51744d8b0760abe1d90fa35": {
     "model_module": "@jupyter-widgets/base",
     "model_name": "LayoutModel",
     "state": {
      "_model_module": "@jupyter-widgets/base",
      "_model_module_version": "1.2.0",
      "_model_name": "LayoutModel",
      "_view_count": null,
      "_view_module": "@jupyter-widgets/base",
      "_view_module_version": "1.2.0",
      "_view_name": "LayoutView",
      "align_content": null,
      "align_items": null,
      "align_self": null,
      "border": null,
      "bottom": null,
      "display": null,
      "flex": null,
      "flex_flow": null,
      "grid_area": null,
      "grid_auto_columns": null,
      "grid_auto_flow": null,
      "grid_auto_rows": null,
      "grid_column": null,
      "grid_gap": null,
      "grid_row": null,
      "grid_template_areas": null,
      "grid_template_columns": null,
      "grid_template_rows": null,
      "height": null,
      "justify_content": null,
      "justify_items": null,
      "left": null,
      "margin": null,
      "max_height": null,
      "max_width": null,
      "min_height": null,
      "min_width": null,
      "object_fit": null,
      "object_position": null,
      "order": null,
      "overflow": null,
      "overflow_x": null,
      "overflow_y": null,
      "padding": null,
      "right": null,
      "top": null,
      "visibility": null,
      "width": null
     }
    },
    "830ce7d830ba4064be988cdf140e42a7": {
     "model_module": "@jupyter-widgets/controls",
     "model_name": "HBoxModel",
     "state": {
      "_dom_classes": [],
      "_model_module": "@jupyter-widgets/controls",
      "_model_module_version": "1.5.0",
      "_model_name": "HBoxModel",
      "_view_count": null,
      "_view_module": "@jupyter-widgets/controls",
      "_view_module_version": "1.5.0",
      "_view_name": "HBoxView",
      "box_style": "",
      "children": [
       "IPY_MODEL_b6ef05aef1e0437a9015e57d798d27bf",
       "IPY_MODEL_c7b1c979469043408bb8e5541d729b20"
      ],
      "layout": "IPY_MODEL_63b9db63d4a141b48821f53732743219"
     }
    },
    "8fac12f7755842ae9803e77a1d1d3e15": {
     "model_module": "@jupyter-widgets/controls",
     "model_name": "HBoxModel",
     "state": {
      "_dom_classes": [],
      "_model_module": "@jupyter-widgets/controls",
      "_model_module_version": "1.5.0",
      "_model_name": "HBoxModel",
      "_view_count": null,
      "_view_module": "@jupyter-widgets/controls",
      "_view_module_version": "1.5.0",
      "_view_name": "HBoxView",
      "box_style": "",
      "children": [
       "IPY_MODEL_96cafb9efbf642928355932ef75a2c6e",
       "IPY_MODEL_9b12042d376342578cbee91f560fdd7d"
      ],
      "layout": "IPY_MODEL_371756c685234d2287fe1fc0140d07d6"
     }
    },
    "96cafb9efbf642928355932ef75a2c6e": {
     "model_module": "@jupyter-widgets/controls",
     "model_name": "FloatProgressModel",
     "state": {
      "_dom_classes": [],
      "_model_module": "@jupyter-widgets/controls",
      "_model_module_version": "1.5.0",
      "_model_name": "FloatProgressModel",
      "_view_count": null,
      "_view_module": "@jupyter-widgets/controls",
      "_view_module_version": "1.5.0",
      "_view_name": "ProgressView",
      "bar_style": "success",
      "description": "Downloading: 100%",
      "description_tooltip": null,
      "layout": "IPY_MODEL_c41fe999021543e5a2d4ea96ebcb14d3",
      "max": 657434796,
      "min": 0,
      "orientation": "horizontal",
      "style": "IPY_MODEL_c3e9003df312460ba236a5e2c0e5e1a2",
      "value": 657434796
     }
    },
    "9a27d08eb17d4e9c89d9bdad106b2a66": {
     "model_module": "@jupyter-widgets/controls",
     "model_name": "HTMLModel",
     "state": {
      "_dom_classes": [],
      "_model_module": "@jupyter-widgets/controls",
      "_model_module_version": "1.5.0",
      "_model_name": "HTMLModel",
      "_view_count": null,
      "_view_module": "@jupyter-widgets/controls",
      "_view_module_version": "1.5.0",
      "_view_name": "HTMLView",
      "description": "",
      "description_tooltip": null,
      "layout": "IPY_MODEL_7d9de46ac51744d8b0760abe1d90fa35",
      "placeholder": "​",
      "style": "IPY_MODEL_1ca995bca8d7493c93fbf06b3ea89ada",
      "value": " 481/481 [00:00&lt;00:00, 1.03kB/s]"
     }
    },
    "9b12042d376342578cbee91f560fdd7d": {
     "model_module": "@jupyter-widgets/controls",
     "model_name": "HTMLModel",
     "state": {
      "_dom_classes": [],
      "_model_module": "@jupyter-widgets/controls",
      "_model_module_version": "1.5.0",
      "_model_name": "HTMLModel",
      "_view_count": null,
      "_view_module": "@jupyter-widgets/controls",
      "_view_module_version": "1.5.0",
      "_view_name": "HTMLView",
      "description": "",
      "description_tooltip": null,
      "layout": "IPY_MODEL_3200421bdda2410fa93c751ee5428e40",
      "placeholder": "​",
      "style": "IPY_MODEL_60900b29c1184e63a5ba48c4afa2d248",
      "value": " 657M/657M [00:24&lt;00:00, 26.6MB/s]"
     }
    },
    "a2969e8869bc471e82a81e5c4372eb12": {
     "model_module": "@jupyter-widgets/controls",
     "model_name": "ProgressStyleModel",
     "state": {
      "_model_module": "@jupyter-widgets/controls",
      "_model_module_version": "1.5.0",
      "_model_name": "ProgressStyleModel",
      "_view_count": null,
      "_view_module": "@jupyter-widgets/base",
      "_view_module_version": "1.2.0",
      "_view_name": "StyleView",
      "bar_color": null,
      "description_width": "initial"
     }
    },
    "a4b334f2b1cc47ddafd5c42ff2e086b0": {
     "model_module": "@jupyter-widgets/controls",
     "model_name": "FloatProgressModel",
     "state": {
      "_dom_classes": [],
      "_model_module": "@jupyter-widgets/controls",
      "_model_module_version": "1.5.0",
      "_model_name": "FloatProgressModel",
      "_view_count": null,
      "_view_module": "@jupyter-widgets/controls",
      "_view_module_version": "1.5.0",
      "_view_name": "ProgressView",
      "bar_style": "success",
      "description": "Downloading: 100%",
      "description_tooltip": null,
      "layout": "IPY_MODEL_19db6933f0e24074a16e66d7cdb9d971",
      "max": 456318,
      "min": 0,
      "orientation": "horizontal",
      "style": "IPY_MODEL_a2969e8869bc471e82a81e5c4372eb12",
      "value": 456318
     }
    },
    "ac9cbb0815a14095aaf4155d9c624606": {
     "model_module": "@jupyter-widgets/controls",
     "model_name": "HBoxModel",
     "state": {
      "_dom_classes": [],
      "_model_module": "@jupyter-widgets/controls",
      "_model_module_version": "1.5.0",
      "_model_name": "HBoxModel",
      "_view_count": null,
      "_view_module": "@jupyter-widgets/controls",
      "_view_module_version": "1.5.0",
      "_view_name": "HBoxView",
      "box_style": "",
      "children": [
       "IPY_MODEL_a4b334f2b1cc47ddafd5c42ff2e086b0",
       "IPY_MODEL_b0e20392cf1745ff8b9c15c867aed8f1"
      ],
      "layout": "IPY_MODEL_373d9fbabb9a4631a284420a66989b57"
     }
    },
    "ae60c86565f74e43b29bad0259c18309": {
     "model_module": "@jupyter-widgets/controls",
     "model_name": "HBoxModel",
     "state": {
      "_dom_classes": [],
      "_model_module": "@jupyter-widgets/controls",
      "_model_module_version": "1.5.0",
      "_model_name": "HBoxModel",
      "_view_count": null,
      "_view_module": "@jupyter-widgets/controls",
      "_view_module_version": "1.5.0",
      "_view_name": "HBoxView",
      "box_style": "",
      "children": [
       "IPY_MODEL_bf2c02f09592419d871e4e254e3a0659",
       "IPY_MODEL_9a27d08eb17d4e9c89d9bdad106b2a66"
      ],
      "layout": "IPY_MODEL_d291bedc761d46efb05d8de62b6e52c3"
     }
    },
    "b0e20392cf1745ff8b9c15c867aed8f1": {
     "model_module": "@jupyter-widgets/controls",
     "model_name": "HTMLModel",
     "state": {
      "_dom_classes": [],
      "_model_module": "@jupyter-widgets/controls",
      "_model_module_version": "1.5.0",
      "_model_name": "HTMLModel",
      "_view_count": null,
      "_view_module": "@jupyter-widgets/controls",
      "_view_module_version": "1.5.0",
      "_view_name": "HTMLView",
      "description": "",
      "description_tooltip": null,
      "layout": "IPY_MODEL_d95d3188f25a472599c481199994070c",
      "placeholder": "​",
      "style": "IPY_MODEL_c3a715ef66c1473688d225cc3eb08c77",
      "value": " 456k/456k [00:00&lt;00:00, 576kB/s]"
     }
    },
    "b6ef05aef1e0437a9015e57d798d27bf": {
     "model_module": "@jupyter-widgets/controls",
     "model_name": "FloatProgressModel",
     "state": {
      "_dom_classes": [],
      "_model_module": "@jupyter-widgets/controls",
      "_model_module_version": "1.5.0",
      "_model_name": "FloatProgressModel",
      "_view_count": null,
      "_view_module": "@jupyter-widgets/controls",
      "_view_module_version": "1.5.0",
      "_view_name": "ProgressView",
      "bar_style": "success",
      "description": "Downloading: 100%",
      "description_tooltip": null,
      "layout": "IPY_MODEL_3137c18b33d04412bbe0609c66a8644f",
      "max": 898823,
      "min": 0,
      "orientation": "horizontal",
      "style": "IPY_MODEL_cb0ce293b12b477b994d45d50c9e0dad",
      "value": 898823
     }
    },
    "bf2c02f09592419d871e4e254e3a0659": {
     "model_module": "@jupyter-widgets/controls",
     "model_name": "FloatProgressModel",
     "state": {
      "_dom_classes": [],
      "_model_module": "@jupyter-widgets/controls",
      "_model_module_version": "1.5.0",
      "_model_name": "FloatProgressModel",
      "_view_count": null,
      "_view_module": "@jupyter-widgets/controls",
      "_view_module_version": "1.5.0",
      "_view_name": "ProgressView",
      "bar_style": "success",
      "description": "Downloading: 100%",
      "description_tooltip": null,
      "layout": "IPY_MODEL_5bd8e568046e45b598c6ff53d2a7b48e",
      "max": 481,
      "min": 0,
      "orientation": "horizontal",
      "style": "IPY_MODEL_6fd1e9c169ee428099bf9d761c00dfbc",
      "value": 481
     }
    },
    "c3a715ef66c1473688d225cc3eb08c77": {
     "model_module": "@jupyter-widgets/controls",
     "model_name": "DescriptionStyleModel",
     "state": {
      "_model_module": "@jupyter-widgets/controls",
      "_model_module_version": "1.5.0",
      "_model_name": "DescriptionStyleModel",
      "_view_count": null,
      "_view_module": "@jupyter-widgets/base",
      "_view_module_version": "1.2.0",
      "_view_name": "StyleView",
      "description_width": ""
     }
    },
    "c3e9003df312460ba236a5e2c0e5e1a2": {
     "model_module": "@jupyter-widgets/controls",
     "model_name": "ProgressStyleModel",
     "state": {
      "_model_module": "@jupyter-widgets/controls",
      "_model_module_version": "1.5.0",
      "_model_name": "ProgressStyleModel",
      "_view_count": null,
      "_view_module": "@jupyter-widgets/base",
      "_view_module_version": "1.2.0",
      "_view_name": "StyleView",
      "bar_color": null,
      "description_width": "initial"
     }
    },
    "c41fe999021543e5a2d4ea96ebcb14d3": {
     "model_module": "@jupyter-widgets/base",
     "model_name": "LayoutModel",
     "state": {
      "_model_module": "@jupyter-widgets/base",
      "_model_module_version": "1.2.0",
      "_model_name": "LayoutModel",
      "_view_count": null,
      "_view_module": "@jupyter-widgets/base",
      "_view_module_version": "1.2.0",
      "_view_name": "LayoutView",
      "align_content": null,
      "align_items": null,
      "align_self": null,
      "border": null,
      "bottom": null,
      "display": null,
      "flex": null,
      "flex_flow": null,
      "grid_area": null,
      "grid_auto_columns": null,
      "grid_auto_flow": null,
      "grid_auto_rows": null,
      "grid_column": null,
      "grid_gap": null,
      "grid_row": null,
      "grid_template_areas": null,
      "grid_template_columns": null,
      "grid_template_rows": null,
      "height": null,
      "justify_content": null,
      "justify_items": null,
      "left": null,
      "margin": null,
      "max_height": null,
      "max_width": null,
      "min_height": null,
      "min_width": null,
      "object_fit": null,
      "object_position": null,
      "order": null,
      "overflow": null,
      "overflow_x": null,
      "overflow_y": null,
      "padding": null,
      "right": null,
      "top": null,
      "visibility": null,
      "width": null
     }
    },
    "c7b1c979469043408bb8e5541d729b20": {
     "model_module": "@jupyter-widgets/controls",
     "model_name": "HTMLModel",
     "state": {
      "_dom_classes": [],
      "_model_module": "@jupyter-widgets/controls",
      "_model_module_version": "1.5.0",
      "_model_name": "HTMLModel",
      "_view_count": null,
      "_view_module": "@jupyter-widgets/controls",
      "_view_module_version": "1.5.0",
      "_view_name": "HTMLView",
      "description": "",
      "description_tooltip": null,
      "layout": "IPY_MODEL_23494346047842ddae4178d4d29a4b9d",
      "placeholder": "​",
      "style": "IPY_MODEL_05cfb38376f94761ac7818212739340f",
      "value": " 899k/899k [00:03&lt;00:00, 263kB/s]"
     }
    },
    "cb0ce293b12b477b994d45d50c9e0dad": {
     "model_module": "@jupyter-widgets/controls",
     "model_name": "ProgressStyleModel",
     "state": {
      "_model_module": "@jupyter-widgets/controls",
      "_model_module_version": "1.5.0",
      "_model_name": "ProgressStyleModel",
      "_view_count": null,
      "_view_module": "@jupyter-widgets/base",
      "_view_module_version": "1.2.0",
      "_view_name": "StyleView",
      "bar_color": null,
      "description_width": "initial"
     }
    },
    "d291bedc761d46efb05d8de62b6e52c3": {
     "model_module": "@jupyter-widgets/base",
     "model_name": "LayoutModel",
     "state": {
      "_model_module": "@jupyter-widgets/base",
      "_model_module_version": "1.2.0",
      "_model_name": "LayoutModel",
      "_view_count": null,
      "_view_module": "@jupyter-widgets/base",
      "_view_module_version": "1.2.0",
      "_view_name": "LayoutView",
      "align_content": null,
      "align_items": null,
      "align_self": null,
      "border": null,
      "bottom": null,
      "display": null,
      "flex": null,
      "flex_flow": null,
      "grid_area": null,
      "grid_auto_columns": null,
      "grid_auto_flow": null,
      "grid_auto_rows": null,
      "grid_column": null,
      "grid_gap": null,
      "grid_row": null,
      "grid_template_areas": null,
      "grid_template_columns": null,
      "grid_template_rows": null,
      "height": null,
      "justify_content": null,
      "justify_items": null,
      "left": null,
      "margin": null,
      "max_height": null,
      "max_width": null,
      "min_height": null,
      "min_width": null,
      "object_fit": null,
      "object_position": null,
      "order": null,
      "overflow": null,
      "overflow_x": null,
      "overflow_y": null,
      "padding": null,
      "right": null,
      "top": null,
      "visibility": null,
      "width": null
     }
    },
    "d95d3188f25a472599c481199994070c": {
     "model_module": "@jupyter-widgets/base",
     "model_name": "LayoutModel",
     "state": {
      "_model_module": "@jupyter-widgets/base",
      "_model_module_version": "1.2.0",
      "_model_name": "LayoutModel",
      "_view_count": null,
      "_view_module": "@jupyter-widgets/base",
      "_view_module_version": "1.2.0",
      "_view_name": "LayoutView",
      "align_content": null,
      "align_items": null,
      "align_self": null,
      "border": null,
      "bottom": null,
      "display": null,
      "flex": null,
      "flex_flow": null,
      "grid_area": null,
      "grid_auto_columns": null,
      "grid_auto_flow": null,
      "grid_auto_rows": null,
      "grid_column": null,
      "grid_gap": null,
      "grid_row": null,
      "grid_template_areas": null,
      "grid_template_columns": null,
      "grid_template_rows": null,
      "height": null,
      "justify_content": null,
      "justify_items": null,
      "left": null,
      "margin": null,
      "max_height": null,
      "max_width": null,
      "min_height": null,
      "min_width": null,
      "object_fit": null,
      "object_position": null,
      "order": null,
      "overflow": null,
      "overflow_x": null,
      "overflow_y": null,
      "padding": null,
      "right": null,
      "top": null,
      "visibility": null,
      "width": null
     }
    }
   }
  }
 },
 "nbformat": 4,
 "nbformat_minor": 1
}
